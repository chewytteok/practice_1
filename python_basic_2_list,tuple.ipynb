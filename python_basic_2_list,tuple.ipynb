{
 "cells": [
  {
   "cell_type": "markdown",
   "metadata": {},
   "source": [
    "## list & tuple\n",
    "- 복수개의 값을 담을 수 있는 데이터 구조\n",
    "- 실생활에서 사용하는 리스트(학생 리스트, 성적 리스트 등등)과 동일한 의미로 이해 할 수 있다.\n",
    "- list - mutable(생성된 후 변경 가능)\n",
    "- tuple -immutable(생성된 후 변경 불가능)"
   ]
  },
  {
   "cell_type": "markdown",
   "metadata": {},
   "source": [
    "## 리스트 초기화\n",
    "- []안에 값을 담아서 생성\n",
    "- list() 함수로 생성\n",
    "- str.split()함수로 생성"
   ]
  },
  {
   "cell_type": "code",
   "execution_count": 2,
   "metadata": {},
   "outputs": [
    {
     "name": "stdout",
     "output_type": "stream",
     "text": [
      "[]\n"
     ]
    }
   ],
   "source": [
    "a = []\n",
    "print(a)"
   ]
  },
  {
   "cell_type": "code",
   "execution_count": 4,
   "metadata": {},
   "outputs": [
    {
     "name": "stdout",
     "output_type": "stream",
     "text": [
      "[1, 2, 3, 5, 8]\n"
     ]
    }
   ],
   "source": [
    "a = [1,2,3,5,8]\n",
    "print(a)"
   ]
  },
  {
   "cell_type": "code",
   "execution_count": 5,
   "metadata": {
    "scrolled": true
   },
   "outputs": [
    {
     "name": "stdout",
     "output_type": "stream",
     "text": [
      "['python', 'java', 1, 23, [45, 56]]\n"
     ]
    }
   ],
   "source": [
    "a = ['python','java',1,23,[45,56]]\n",
    "print(a)"
   ]
  },
  {
   "cell_type": "markdown",
   "metadata": {},
   "source": [
    "###  - **list() 함수**\n",
    " - 다른 데이터 타임을 리스트로 변활할 때도 사용"
   ]
  },
  {
   "cell_type": "code",
   "execution_count": 7,
   "metadata": {},
   "outputs": [
    {
     "name": "stdout",
     "output_type": "stream",
     "text": [
      "['h', 'e', 'l', 'l', 'o', ' ', 'p', 'y', 'h', 't', 'o', 'n']\n",
      "[1, 2, 3]\n"
     ]
    }
   ],
   "source": [
    "a = 'hello pyhton'\n",
    "b = list(a)\n",
    "print(b)\n",
    "\n",
    "c = (1,2,3)\n",
    "d = list(c)\n",
    "print(d)"
   ]
  },
  {
   "cell_type": "markdown",
   "metadata": {},
   "source": [
    "### - **string split 함수**\n",
    " - 구분자로 구분되는 리스트를 반환(자주 사용한다.)"
   ]
  },
  {
   "cell_type": "code",
   "execution_count": 9,
   "metadata": {},
   "outputs": [
    {
     "name": "stdout",
     "output_type": "stream",
     "text": [
      "['hello', 'world', 'nice', 'weather']\n"
     ]
    }
   ],
   "source": [
    "a ='hello world nice weather'\n",
    "b = a.split()\n",
    "\n",
    "print(b)"
   ]
  },
  {
   "cell_type": "markdown",
   "metadata": {},
   "source": [
    "### - **list indexing**\n",
    "- 문자열의 인덱싱과 동일하게 동작\n",
    "- [] 연산자를 이용하여 항목 얻어오기\n",
    "- [i] -i번째 원소를 반환\n",
    "- i가 음수인 경우도 가능하며 마지막원소가 -1로 하여 앞으로 갈때마다 1씩 감소함"
   ]
  },
  {
   "cell_type": "code",
   "execution_count": 13,
   "metadata": {},
   "outputs": [
    {
     "name": "stdout",
     "output_type": "stream",
     "text": [
      "3\n",
      "6\n"
     ]
    }
   ],
   "source": [
    "a =[1,2,3,4,5,6]\n",
    "#3번째 숫자반환\n",
    "print(a[2])\n",
    "#마지막 숫자반환\n",
    "print(a[-1])"
   ]
  },
  {
   "cell_type": "markdown",
   "metadata": {},
   "source": [
    "### 리스트 개별 아이템에 접근\n",
    "- 인덱스에 접근하여 값을 업데이트 가능"
   ]
  },
  {
   "cell_type": "code",
   "execution_count": 21,
   "metadata": {},
   "outputs": [
    {
     "name": "stdout",
     "output_type": "stream",
     "text": [
      "h\n",
      "jello world jello world\n",
      "jello world\n",
      "jello world\n"
     ]
    }
   ],
   "source": [
    "#불변(immutable)\n",
    "a = 'hello world'\n",
    "print(a[0])\n",
    "\n",
    "#문자열은 불변 개체이다.error\n",
    "#a[0] = 'j'\n",
    "\n",
    "#새로 생성하거나 합쳐서 만든다\n",
    "\n",
    "b = 'jello world'\n",
    "c = 'j' + a[1:]\n",
    "print(b,c)\n",
    "\n",
    "#저장되지 않음\n",
    "print(a.replace('h','j'))\n",
    "\n",
    "#replace 사용\n",
    "d = a.replace('h','j')\n",
    "print(d)"
   ]
  },
  {
   "cell_type": "code",
   "execution_count": 23,
   "metadata": {},
   "outputs": [
    {
     "name": "stdout",
     "output_type": "stream",
     "text": [
      "[100, 2, 3, 4, 200]\n"
     ]
    }
   ],
   "source": [
    "#리스트는 변경이 가능하다.\n",
    "a = [1,2,3,4,5]\n",
    "a[0] = 100\n",
    "a[-1] = 200\n",
    "\n",
    "print(a)"
   ]
  },
  {
   "cell_type": "markdown",
   "metadata": {},
   "source": [
    "### list slicing\n",
    "\n",
    "- 문자열 슬라이싱과 동일하게 동작\n",
    "- 슬라이싱의 결과 역시 list"
   ]
  },
  {
   "cell_type": "code",
   "execution_count": 28,
   "metadata": {},
   "outputs": [
    {
     "name": "stdout",
     "output_type": "stream",
     "text": [
      "[5, 6, 7]\n",
      "[1, 2, 3, 4, 5, 6, 7]\n",
      "[4, 5, 6, 7, 8]\n",
      "[1, 2, 3, 4, 5, 6, 7, 8]\n"
     ]
    },
    {
     "data": {
      "text/plain": [
       "[2, 4, 6]"
      ]
     },
     "execution_count": 28,
     "metadata": {},
     "output_type": "execute_result"
    }
   ],
   "source": [
    "a = [1,2,3,4,5,6,7,8]\n",
    "print(a[4:7])\n",
    "print(a[:7])\n",
    "print(a[3:])\n",
    "print(a[:])\n",
    "\n",
    "# slicing\n",
    "# start : end : increment\n",
    "\n",
    "#맨 뒷 자리는 몇개씩 건너 뛸 것인가를 정 할 수 있다.\n",
    "a[1:7:2]"
   ]
  },
  {
   "cell_type": "markdown",
   "metadata": {},
   "source": [
    "### list 멤버 함수\n",
    "- 생성된 리스트 객체에 동작하는 함수\n",
    "- 향후, 클래스와 멤버 함수 개념을 이해할 예정"
   ]
  },
  {
   "cell_type": "markdown",
   "metadata": {},
   "source": [
    "- **append()**\n",
    " - 리스트의 끝에 항목을 추가함"
   ]
  },
  {
   "cell_type": "code",
   "execution_count": 4,
   "metadata": {},
   "outputs": [
    {
     "name": "stdout",
     "output_type": "stream",
     "text": [
      "[1, 2, 3, 4, 5, 10]\n"
     ]
    }
   ],
   "source": [
    "a = [1, 2, 3, 4, 5]\n",
    "\n",
    "a.append(10)\n",
    "\n",
    "print(a)"
   ]
  },
  {
   "cell_type": "markdown",
   "metadata": {},
   "source": [
    "- **extend()**\n",
    " - 리스트를 연장\n",
    " - += 가능함"
   ]
  },
  {
   "cell_type": "code",
   "execution_count": 7,
   "metadata": {},
   "outputs": [
    {
     "name": "stdout",
     "output_type": "stream",
     "text": [
      "[1, 2, 3, 4, 5, 6, 7, 8, 9, 10]\n"
     ]
    }
   ],
   "source": [
    "a = [1,2,3,4,5]\n",
    "b = [6,7,8,9,10]\n",
    "#[1,2,3,4,5,6,7,8,9,10]을 만들고 싶을 때는?\n",
    "\n",
    "a.extend(b)\n",
    "print(a)"
   ]
  },
  {
   "cell_type": "code",
   "execution_count": 8,
   "metadata": {
    "scrolled": true
   },
   "outputs": [
    {
     "name": "stdout",
     "output_type": "stream",
     "text": [
      "[1, 2, 3, 4, 5, 6, 7, 8, 9, 10]\n"
     ]
    }
   ],
   "source": [
    "#or +=\n",
    "a = [1,2,3,4,5]\n",
    "b = [6,7,8,9,10]\n",
    "\n",
    "a += b\n",
    "print(a)"
   ]
  },
  {
   "cell_type": "markdown",
   "metadata": {},
   "source": [
    "- **insert()로 항목추가**\n",
    " - 리스트의 원하는 위치에 추가 가능\n",
    " - 앞에 인덱스를, 뒤에 아이템을 명시\n"
   ]
  },
  {
   "cell_type": "code",
   "execution_count": 10,
   "metadata": {},
   "outputs": [
    {
     "name": "stdout",
     "output_type": "stream",
     "text": [
      "[1, 40, 3, 4, 5, 6]\n"
     ]
    }
   ],
   "source": [
    "a = [1,3,4,5,6]\n",
    "# (index, 값)\n",
    "a.insert(1,40)\n",
    "\n",
    "print(a)"
   ]
  },
  {
   "cell_type": "markdown",
   "metadata": {},
   "source": [
    "- **remove()**\n",
    " - 값으로 항목 삭제"
   ]
  },
  {
   "cell_type": "code",
   "execution_count": 11,
   "metadata": {},
   "outputs": [
    {
     "name": "stdout",
     "output_type": "stream",
     "text": [
      "[1, 2, 4, 5]\n"
     ]
    }
   ],
   "source": [
    "a =[1,2,3,4,5]\n",
    "#가장 앞에 나오는 값만 지운다\n",
    "a.remove(3)\n",
    "\n",
    "print(a)"
   ]
  },
  {
   "cell_type": "markdown",
   "metadata": {},
   "source": [
    "- **pop()**\n",
    " - 지우고자 하는 아이템을 반환 후, 삭제"
   ]
  },
  {
   "cell_type": "code",
   "execution_count": 13,
   "metadata": {},
   "outputs": [
    {
     "name": "stdout",
     "output_type": "stream",
     "text": [
      "[1, 2, 4, 5]\n",
      "3\n"
     ]
    }
   ],
   "source": [
    "a = [1,2,3,4,5]\n",
    "#변수에 따로 저장을 해야함\n",
    "d = a.pop(2)\n",
    "\n",
    "print(a)\n",
    "print(d)"
   ]
  },
  {
   "cell_type": "markdown",
   "metadata": {},
   "source": [
    "- **index()**\n",
    " - 찾고자 하는 값의 인덱스 반환"
   ]
  },
  {
   "cell_type": "code",
   "execution_count": 14,
   "metadata": {},
   "outputs": [
    {
     "data": {
      "text/plain": [
       "3"
      ]
     },
     "execution_count": 14,
     "metadata": {},
     "output_type": "execute_result"
    }
   ],
   "source": [
    "a = [2,6,8,9,19]\n",
    "a.index(9)"
   ]
  },
  {
   "cell_type": "markdown",
   "metadata": {},
   "source": [
    "- **in 키워드**\n",
    " - 리스트 내에 해당 값이 존재하는지 확인\n",
    " - value in [list]\n",
    " - True, False 중 한가지로 반환"
   ]
  },
  {
   "cell_type": "code",
   "execution_count": 15,
   "metadata": {},
   "outputs": [
    {
     "name": "stdout",
     "output_type": "stream",
     "text": [
      "True\n"
     ]
    }
   ],
   "source": [
    "a = [1,2,3,4,5,10]\n",
    "b = 10\n",
    "\n",
    "c = b in a #False\n",
    "print(c)"
   ]
  },
  {
   "cell_type": "markdown",
   "metadata": {},
   "source": [
    "- **list 정렬★**\n",
    " - sort() -> 리스트 자체를 내부적으로 정렬\n",
    " - sorted() -> 리스트의 정렬된 복사본을 반환"
   ]
  },
  {
   "cell_type": "code",
   "execution_count": 23,
   "metadata": {},
   "outputs": [
    {
     "name": "stdout",
     "output_type": "stream",
     "text": [
      "[20, 15, 13, 11, 10, 5, 4, 2, 1]\n",
      "[1, 2, 4, 5, 10, 11, 13, 15, 20]\n"
     ]
    }
   ],
   "source": [
    "a = [10,11,15,13,1,2,20,5,4]\n",
    "\n",
    "#a.sort(#reverse = False)\n",
    "#기본 값인 reverse = False를 True로 바꾸면 내림차순으로 정렬해줌\n",
    "a.sort(reverse = True)\n",
    "\n",
    "print(a)\n",
    "\n",
    "b = sorted(a)\n",
    "print(b)"
   ]
  },
  {
   "cell_type": "code",
   "execution_count": null,
   "metadata": {},
   "outputs": [],
   "source": []
  }
 ],
 "metadata": {
  "kernelspec": {
   "display_name": "Python 3",
   "language": "python",
   "name": "python3"
  },
  "language_info": {
   "codemirror_mode": {
    "name": "ipython",
    "version": 3
   },
   "file_extension": ".py",
   "mimetype": "text/x-python",
   "name": "python",
   "nbconvert_exporter": "python",
   "pygments_lexer": "ipython3",
   "version": "3.7.4"
  }
 },
 "nbformat": 4,
 "nbformat_minor": 2
}
