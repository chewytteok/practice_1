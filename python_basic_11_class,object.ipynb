{
 "cells": [
  {
   "cell_type": "markdown",
   "metadata": {},
   "source": [
    "### class란?\n",
    "- 실세계의 것을 모델링하여 속성(attribute)와 동작(method)를 갖는 데이터 타입\n",
    "- python에서의 string, int, dict.. 모두가 다 클래스로 존재\n",
    "- 예를들어 학생이라는 클래스를 만든다면, 학생을 나타내는 속성과 학생이 행하는 행동을 함께 정의 할 수 있음\n",
    "- 따라서 다루고자 하는 데이터(변수)와 데이터를 다루는 연산(함수)를 하나로 캡슐화(encapsulation)하여 클래스로 표현\n",
    "- 모델링에서 중요시 하는 속성에 따라 클래스의 속성과 행동이 각각 달라짐"
   ]
  },
  {
   "cell_type": "code",
   "execution_count": 1,
   "metadata": {},
   "outputs": [
    {
     "name": "stdout",
     "output_type": "stream",
     "text": [
      "[1, 2, 3, 4, 5]\n"
     ]
    }
   ],
   "source": [
    "# ex) 클래스(타입을 정의함)와 오브잭트를 이용한 프로그래밍 방법\n",
    "a = [1, 2, 3, 4]\n",
    "a.append(5)\n",
    "print(a)"
   ]
  },
  {
   "cell_type": "markdown",
   "metadata": {},
   "source": [
    "### object란?\n",
    "- 클래스로 생성되어 구체화된 객체(인스턴스)\n",
    "- 파이썬의 모든 것(int, str, list...etc)은 객체(인스턴스)이다.\n",
    "- 실제로 class가 인스턴스화 되어 메모리에 상주하는 상태를 의미한다.\n",
    "- class가 빵틀이라면, object는 실제로 방틀로 찍어낸 빵이라고 비유할 수 있다."
   ]
  },
  {
   "cell_type": "markdown",
   "metadata": {},
   "source": [
    "### class 선언하는 방법\n",
    "- 객체를 생성하기 위해선 객체의 모체가 되는 class를 미리 선언해야 한다."
   ]
  },
  {
   "cell_type": "code",
   "execution_count": 3,
   "metadata": {},
   "outputs": [],
   "source": [
    "# 정의를 하되 나중에 코드를 추가하기 위해 남겨두고 싶을 때 pass를 사용한다.\n",
    "def test():\n",
    "    pass\n",
    "\n",
    "def test2():\n",
    "    pass"
   ]
  },
  {
   "cell_type": "code",
   "execution_count": 2,
   "metadata": {},
   "outputs": [],
   "source": [
    "class Person:\n",
    "    pass"
   ]
  },
  {
   "cell_type": "code",
   "execution_count": 4,
   "metadata": {},
   "outputs": [
    {
     "name": "stdout",
     "output_type": "stream",
     "text": [
      "<class '__main__.Person'> <class '__main__.Person'>\n",
      "<class 'list'> <class 'list'>\n"
     ]
    }
   ],
   "source": [
    "# Person이라는 객체를 생성\n",
    "# str = 객체 이름()\n",
    "\n",
    "bob = Person()\n",
    "Hong = Person()\n",
    "\n",
    "#위와 같다고 생각 할 수 있다.\n",
    "a = list()\n",
    "b = list()\n",
    "\n",
    "# a. + tap을 누르면 여러가지 method가 나옴\n",
    "\n",
    "print(type(bob), type(Hong))\n",
    "print(type(a), type(b))"
   ]
  },
  {
   "cell_type": "markdown",
   "metadata": {},
   "source": [
    "### init이란?(__init__(self))\n",
    "- 생성자, 클래스 인스턴스가 생성될 때 호출됨\n",
    "- self인자는 항상 첫번째에 오며 자기 자신을 가리킨다.\n",
    "- 이름이 꼭 self일 필요는 없지만, 관례적으로 self로 사용\n",
    "- 생성자에서는 해당 클래스가 다루는 데이터를 정의\n",
    "    - 이 데이터를 멤버 변수(member variable)또는 속성(attribute)라고 함"
   ]
  },
  {
   "cell_type": "code",
   "execution_count": 10,
   "metadata": {},
   "outputs": [
    {
     "name": "stdout",
     "output_type": "stream",
     "text": [
      "<__main__.Person object at 0x0000020E8CAD5D08> is generated\n",
      "<__main__.Person object at 0x0000020E8CAD5308> is generated\n",
      "Hong 20\n"
     ]
    }
   ],
   "source": [
    "class Person:\n",
    "    def __init__(self):\n",
    "        print(self, 'is generated')\n",
    "        self.name = 'Kate' #(속성정의)\n",
    "        self.age = 10 # Person이라는 타입에 두가지의 속성(name, age)를 갖는다.\n",
    "\n",
    "        \n",
    "p1 = Person()\n",
    "p2 = Person()\n",
    "\n",
    "p1.name = 'Hong'\n",
    "p1.age = 20\n",
    "\n",
    "print(p1.name, p1.age)"
   ]
  },
  {
   "cell_type": "code",
   "execution_count": 11,
   "metadata": {},
   "outputs": [
    {
     "name": "stdout",
     "output_type": "stream",
     "text": [
      "<__main__.Person object at 0x0000020E8C435288> is generated\n",
      "<__main__.Person object at 0x0000020E8C435F88> is generated\n",
      "<__main__.Person object at 0x0000020E8CAD5D08> is generated\n",
      "Honb 40\n",
      "Kim 20\n",
      "Jong 10\n"
     ]
    }
   ],
   "source": [
    "# 동적으로 생성하는 방법\n",
    "# Person을 만들면서 name과 age의 속성을 변경한다.\n",
    "\n",
    "class Person:\n",
    "    def __init__(self, name, age= 10):\n",
    "        print(self, 'is generated')\n",
    "        self.name = name\n",
    "        self.age = age\n",
    "        \n",
    "p1 = Person('Honb', 40)\n",
    "p2 = Person('Kim', 20)\n",
    "p3 = Person('Jong')\n",
    "\n",
    "print(p1.name, p1.age)\n",
    "print(p2.name, p2.age)\n",
    "print(p3.name, p3.age)"
   ]
  },
  {
   "cell_type": "markdown",
   "metadata": {},
   "source": [
    "### self란?\n",
    "- 파이썬의 method는 항상 첫번째 인자로 self를 전달\n",
    "- self는 현재 해당 method가 호출되는 객체 자신을 가리킴\n",
    "- C++ / C#, Jave의 this에 해당한다.\n",
    "- 역시, 이름이 self일 필요는 없으나, 위치는 항상 맨 처음의 parameter이며 관례적으로 self로 사용한다."
   ]
  },
  {
   "cell_type": "code",
   "execution_count": 17,
   "metadata": {},
   "outputs": [
    {
     "name": "stdout",
     "output_type": "stream",
     "text": [
      "self:  <__main__.Person object at 0x0000020E8CA3F048>\n",
      "self:  <__main__.Person object at 0x0000020E8CA3F0C8>\n",
      "<__main__.Person object at 0x0000020E8CA3F048>\n",
      "<__main__.Person object at 0x0000020E8CA3F0C8>\n",
      "self:  <__main__.Person object at 0x0000020E8CA3F048>\n",
      "Kim 은 밥을 먹습니다.\n",
      "self:  <__main__.Person object at 0x0000020E8CA3F0C8>\n",
      "Hong 은 밥을 먹습니다.\n"
     ]
    }
   ],
   "source": [
    "class Person:\n",
    "    def __init__(self, name, age):\n",
    "        print('self: ', self)\n",
    "        self.name = name\n",
    "        self.age = age\n",
    "    \n",
    "    def eat(self):\n",
    "        print('self: ', self)\n",
    "        print(self.name, '은 밥을 먹습니다.')\n",
    "        \n",
    "a = Person('Kim', 20)\n",
    "b = Person('Hong', 30)\n",
    "\n",
    "print(a)\n",
    "print(b)\n",
    "# 다른 메모리에 있기때문에 각각의 고유 주소를 갖고 있다.\n",
    "# self는 객체 그 자체이고 print된 값과 같은 주소를 공유한다.\n",
    "\n",
    "a.eat()# a라는 객체가 파라메터로 전달이 됨을 알 수 있다.\n",
    "b.eat()\n",
    "\n",
    "# a.sleep(a) 이런식으로 파이썬에서 진행이 된다."
   ]
  },
  {
   "cell_type": "markdown",
   "metadata": {},
   "source": [
    "### method란?(method 정의)\n",
    "- 멤버함수라고도 하며, 해당 클래스의 object에서만 호출이 가능하다.\n",
    "- method는 객체 레벨에서 호출되며, 해당 객체의 속성에 대한 연산을 행함\n",
    "- {obj}.{method}() 형태로 호출된다."
   ]
  },
  {
   "cell_type": "code",
   "execution_count": 22,
   "metadata": {},
   "outputs": [
    {
     "name": "stdout",
     "output_type": "stream",
     "text": [
      "현재값은: 0\n",
      "현재값은: 3\n",
      "현재값은: 0\n",
      "현재값은: 1\n"
     ]
    }
   ],
   "source": [
    "# 1. 숫자를 하나 증가한다.\n",
    "# 2. 숫자를 0으로 초기화 해준다.\n",
    "\n",
    "class Counter:\n",
    "    def __init__(self):\n",
    "        self.num = 0\n",
    "\n",
    "    def increment(self):\n",
    "        self.num += 1\n",
    "    \n",
    "    def reset(self):\n",
    "        self.num = 0\n",
    "    \n",
    "    def print_current_value(self):\n",
    "        print('현재값은:', self.num)\n",
    "\n",
    "c1 = Counter()\n",
    "c1.print_current_value()\n",
    "c1.increment()\n",
    "c1.increment()\n",
    "c1.increment()\n",
    "c1.print_current_value()\n",
    "\n",
    "c1. reset()\n",
    "c1.print_current_value()\n",
    "\n",
    "c2 = Counter()\n",
    "c2.increment()\n",
    "c2.print_current_value()"
   ]
  },
  {
   "cell_type": "markdown",
   "metadata": {},
   "source": [
    "### method type\n",
    "- instance method - 객체로 호출\n",
    "    - method는 객체 레벨로 호출 되기 때문에, 해당 method를 호출한 객체에만 영향을 미친다.\n",
    "- class method(static method) - class로 호출\n",
    "    - class method는 class 레벨로 호출되기 때문에 클래스 맴버 변수만 변경이 가능하다."
   ]
  },
  {
   "cell_type": "code",
   "execution_count": 29,
   "metadata": {},
   "outputs": [
    {
     "data": {
      "text/plain": [
       "200"
      ]
     },
     "execution_count": 29,
     "metadata": {},
     "output_type": "execute_result"
    }
   ],
   "source": [
    "class Math:\n",
    "    @staticmethod\n",
    "    def add(a, b):\n",
    "        return a + b\n",
    "    \n",
    "    @staticmethod\n",
    "    def multiply(a, b):\n",
    "        return a * b\n",
    "    \n",
    "#m = Math()\n",
    "#m.add(10,20)\n",
    "#m.multiply(10,20)\n",
    "\n",
    "# 위에서 staticmethod라고 명시해주면 self를 사용하지 않을 수 있다.\n",
    "Math.add(10, 20)\n",
    "Math.multiply(10, 20)"
   ]
  },
  {
   "cell_type": "markdown",
   "metadata": {},
   "source": [
    "### Class Inheritance(상속)\n",
    "- 기존에 정의해둔 클래스의 기능을 그대로 물려받을 수 있다.\n",
    "- 기존 클래스에 기능 일부를 추가하거나, 변경하여 새로운 클래스를 정의한다.\n",
    "- 코드를 재사용할 수 있게된다.\n",
    "- 상속 받고자 하는 대상인 기존 클래스는(Parent, Super, Base class 라고 부른다.)\n",
    "- 상속 받는 새로운 클래스는(Child, Sub, Derived class 라고 부른다.)\n",
    "- 의미적으로는 is-a 관계를 갖는다."
   ]
  },
  {
   "cell_type": "code",
   "execution_count": 4,
   "metadata": {},
   "outputs": [
    {
     "name": "stdout",
     "output_type": "stream",
     "text": [
      "Bob은 BBQ를 먹습니다.\n",
      "Bob은 30분동안 잡니다.\n",
      "Bob은 60분동안 일합니다.\n"
     ]
    }
   ],
   "source": [
    "class Person: # 부모 class\n",
    "    def __init__(self, name, age):\n",
    "        self.name = name\n",
    "        self.age = age\n",
    "    \n",
    "    def eat(self, food):\n",
    "        print('{}은 {}를 먹습니다.'.format(self.name, food))\n",
    "    \n",
    "    def sleep(self, minute):\n",
    "        print('{}은 {}분동안 잡니다.'.format(self.name, minute))\n",
    "        \n",
    "    def work(self, minute):#학생은 일을 하지 않는데 이를 변경해야함, 아래서 진행\n",
    "        print('{}은 {}분동안 일합니다.'.format(self.name, minute))\n",
    "        \n",
    "class Student(Person):#상속받고자 하는 class 입력\n",
    "    def __init__(self, name, age):\n",
    "        self.name = name\n",
    "        self.age = age\n",
    "    \n",
    "class Employee(Person):\n",
    "    def __init__(self, name, age):\n",
    "        self.name = name\n",
    "        self.age = age\n",
    "              \n",
    "bob = Person('Bob', 25)\n",
    "bob.eat('BBQ')\n",
    "bob.sleep(30)\n",
    "bob.work(60)"
   ]
  },
  {
   "cell_type": "markdown",
   "metadata": {},
   "source": [
    "### method override\n",
    "- 부모 클래스의 method를 재정의(override)\n",
    "- 하위 클래스(자식 클래스)의 인스턴스로 호출시, 재정의된 method가 호출됨"
   ]
  },
  {
   "cell_type": "code",
   "execution_count": 8,
   "metadata": {},
   "outputs": [
    {
     "name": "stdout",
     "output_type": "stream",
     "text": [
      "Bob은 BBQ를 먹습니다.\n",
      "Bob은 30분동안 잡니다.\n",
      "Bob은 60분동안 공부합니다.\n",
      "Hong은 BBQ를 먹습니다.\n",
      "Hong은 30분동안 잡니다.\n",
      "Hong은 60분동안 업무를 봅니다.\n"
     ]
    }
   ],
   "source": [
    "class Person: # 부모 class\n",
    "    def __init__(self, name, age):\n",
    "        self.name = name\n",
    "        self.age = age\n",
    "    \n",
    "    def eat(self, food):\n",
    "        print('{}은 {}를 먹습니다.'.format(self.name, food))\n",
    "    \n",
    "    def sleep(self, minute):\n",
    "        print('{}은 {}분동안 잡니다.'.format(self.name, minute))\n",
    "        \n",
    "    def work(self, minute):\n",
    "        print('{}은 {}분동안 일합니다.'.format(self.name, minute))\n",
    "        \n",
    "class Student(Person):#상속받고자 하는 class 입력\n",
    "    def __init__(self, name, age):\n",
    "        self.name = name\n",
    "        self.age = age\n",
    "    \n",
    "    def work(self, minute):# work의 재정의(override)\n",
    "        print('{}은 {}분동안 공부합니다.'.format(self.name, minute))\n",
    "    \n",
    "class Employee(Person):\n",
    "    def __init__(self, name, age):\n",
    "        self.name = name\n",
    "        self.age = age\n",
    "\n",
    "    def work(self, minute):# work의 재정의(override)\n",
    "        print('{}은 {}분동안 업무를 봅니다.'.format(self.name, minute))\n",
    "        \n",
    "        \n",
    "bob = Student('Bob', 25)\n",
    "bob.eat('BBQ')\n",
    "bob.sleep(30)\n",
    "bob.work(60)\n",
    "\n",
    "Hong = Employee('Hong', 25)\n",
    "Hong.eat('BBQ')\n",
    "Hong.sleep(30)\n",
    "Hong.work(60)"
   ]
  },
  {
   "cell_type": "markdown",
   "metadata": {},
   "source": [
    "### super\n",
    "- 하위클래스(자식 클래스)에서 부모클래스의 method를 호출할 때 사용"
   ]
  },
  {
   "cell_type": "code",
   "execution_count": 10,
   "metadata": {},
   "outputs": [
    {
     "name": "stdout",
     "output_type": "stream",
     "text": [
      "Hong은 BBQ를 먹습니다.\n",
      "Hong은 30분동안 잡니다.\n",
      "Hong은 60분동안 준비를 합니다.\n",
      "Hong은 60분동안 업무를 봅니다.\n"
     ]
    }
   ],
   "source": [
    "class Person: # 부모 class\n",
    "    def __init__(self, name, age):\n",
    "        self.name = name\n",
    "        self.age = age\n",
    "    \n",
    "    def eat(self, food):\n",
    "        print('{}은 {}를 먹습니다.'.format(self.name, food))\n",
    "    \n",
    "    def sleep(self, minute):\n",
    "        print('{}은 {}분동안 잡니다.'.format(self.name, minute))\n",
    "        \n",
    "    def work(self, minute):\n",
    "        print('{}은 {}분동안 준비를 합니다.'.format(self.name, minute))\n",
    "        \n",
    "class Student(Person):#상속받고자 하는 class 입력\n",
    "    def __init__(self, name, age):\n",
    "        self.name = name\n",
    "        self.age = age\n",
    "    \n",
    "    def work(self, minute):# work의 재정의(override)\n",
    "        super().work(minute)\n",
    "        print('{}은 {}분동안 공부합니다.'.format(self.name, minute))\n",
    "    \n",
    "class Employee(Person):\n",
    "    def __init__(self, name, age):\n",
    "        self.name = name\n",
    "        self.age = age\n",
    "\n",
    "    def work(self, minute):# work의 재정의(override)\n",
    "        super().work(minute)\n",
    "        print('{}은 {}분동안 업무를 봅니다.'.format(self.name, minute))\n",
    "        \n",
    "Hong = Employee('Hong', 25)\n",
    "Hong.eat('BBQ')\n",
    "Hong.sleep(30)\n",
    "Hong.work(60)\n",
    "\n",
    "#데이터 분석을 하면서 많이 사용을 하지는 않습니다."
   ]
  },
  {
   "cell_type": "markdown",
   "metadata": {},
   "source": [
    "### special method\n",
    "- __로 시작 __로 끝나는 특수 함수\n",
    "- 해당 method들을 구현하면, 커스텀 객체에 여러가지 파이썬 내장 함수나 연산자를 적용 가능\n",
    "- 오버라이딩 가능한 함수 목록은 아래 링크 참조\n",
    "    - https://docs.python.org/3/reference/datamodel.html\n",
    "    - https://docs.python.org/3/reference/datamodel.html#object"
   ]
  },
  {
   "cell_type": "code",
   "execution_count": 11,
   "metadata": {},
   "outputs": [
    {
     "name": "stdout",
     "output_type": "stream",
     "text": [
      "<__main__.Point object at 0x000002D5A3767708>\n",
      "<__main__.Point object at 0x000002D5A3767B08>\n",
      "(3, 4)\n",
      "(2, 7)\n"
     ]
    }
   ],
   "source": [
    "# Point\n",
    "# 2차원 좌표평면 각 점(x,y)\n",
    "# 연산\n",
    "# 두 점의 덧셈, 뺄셈 (1, 2) + (3, 4) = (4, 6)\n",
    "# 한 점과 숫자의 곱셈 (1, 2) * 3 = (3, 6)\n",
    "# 그 점의 길이 (0, 0) 부터의 거리\n",
    "# x, y 값 가져오기\n",
    "# 출력하기\n",
    "\n",
    "class Point:\n",
    "    def __init__(self, x, y):\n",
    "        self.x = x\n",
    "        self.y = y\n",
    "    \n",
    "    def print_pt(self):\n",
    "        print('({}, {})'.format(self.x, self.y))\n",
    "        \n",
    "p1 = Point(3, 4)\n",
    "p2 = Point(2, 7)\n",
    "\n",
    "print(p1)\n",
    "print(p2)\n",
    "\n",
    "p1.print_pt()\n",
    "p2.print_pt()"
   ]
  },
  {
   "cell_type": "code",
   "execution_count": 13,
   "metadata": {},
   "outputs": [
    {
     "name": "stdout",
     "output_type": "stream",
     "text": [
      "(3, 4)\n",
      "(2, 7)\n",
      "(5, 11)\n"
     ]
    }
   ],
   "source": [
    "class Point:\n",
    "    def __init__(self, x, y):\n",
    "        self.x = x\n",
    "        self.y = y\n",
    "    \n",
    "    def add(self, pt):\n",
    "        new_x = self.x + pt.x\n",
    "        new_y = self.y + pt.y\n",
    "        return Point(new_x, new_y)\n",
    "    \n",
    "    def __str__(self):\n",
    "        return '({}, {})'.format(self.x, self.y)\n",
    "        \n",
    "p1 = Point(3, 4)\n",
    "p2 = Point(2, 7)\n",
    "\n",
    "p3 = p1.add(p2)\n",
    "\n",
    "print(p1)\n",
    "print(p2)\n",
    "print(p3)"
   ]
  },
  {
   "cell_type": "code",
   "execution_count": 24,
   "metadata": {},
   "outputs": [
    {
     "name": "stdout",
     "output_type": "stream",
     "text": [
      "25\n",
      "3\n",
      "4\n",
      "(3, 4)\n",
      "(2, 7)\n",
      "(5, 11)\n",
      "(1, -3)\n",
      "(9, 12)\n"
     ]
    }
   ],
   "source": [
    "class Point:\n",
    "    def __init__(self, x, y):\n",
    "        self.x = x\n",
    "        self.y = y\n",
    "    \n",
    "    def __add__(self, pt):\n",
    "        new_x = self.x + pt.x\n",
    "        new_y = self.y + pt.y\n",
    "        return Point(new_x, new_y)\n",
    "    \n",
    "    def __sub__(self, pt):\n",
    "        new_x = self.x - pt.x\n",
    "        new_y = self.y - pt.y\n",
    "        return Point(new_x, new_y)\n",
    "    \n",
    "    def __mul__(self, factor):\n",
    "        return Point(self.x * factor, self.y * factor)\n",
    "    \n",
    "    def __getitem__(self, index):\n",
    "        if index == 0:\n",
    "            return self.x\n",
    "        elif index == 1:\n",
    "            return self.y\n",
    "        else:\n",
    "            return -1\n",
    "    \n",
    "    def __len__(self):\n",
    "        return self.x ** 2 + self.y ** 2\n",
    "    \n",
    "    def __str__(self):\n",
    "        return '({}, {})'.format(self.x, self.y)\n",
    "        \n",
    "p1 = Point(3, 4)\n",
    "p2 = Point(2, 7)\n",
    "\n",
    "p3 = p1 + p2\n",
    "p4 = p1 - p2\n",
    "\n",
    "#p5 = p1.multiply(3)\n",
    "p5 = p1 * 3\n",
    "\n",
    "\n",
    "#print(p1.length())\n",
    "print(len(p1))\n",
    "\n",
    "\n",
    "#print(p1.get_x())\n",
    "#print(p1.get_y())\n",
    "print(p1[0])\n",
    "print(p1[1])\n",
    "print(p1)\n",
    "print(p2)\n",
    "print(p3)\n",
    "print(p4)\n",
    "print(p5)\n",
    "\n",
    "# 위 함수들은 외우지 말고 필요할 때 찾아서 사용하면 됨"
   ]
  },
  {
   "cell_type": "code",
   "execution_count": null,
   "metadata": {},
   "outputs": [],
   "source": []
  }
 ],
 "metadata": {
  "kernelspec": {
   "display_name": "Python 3",
   "language": "python",
   "name": "python3"
  },
  "language_info": {
   "codemirror_mode": {
    "name": "ipython",
    "version": 3
   },
   "file_extension": ".py",
   "mimetype": "text/x-python",
   "name": "python",
   "nbconvert_exporter": "python",
   "pygments_lexer": "ipython3",
   "version": "3.7.4"
  }
 },
 "nbformat": 4,
 "nbformat_minor": 2
}
