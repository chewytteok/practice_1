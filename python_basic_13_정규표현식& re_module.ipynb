{
 "cells": [
  {
   "cell_type": "markdown",
   "metadata": {},
   "source": [
    "### 정규표현식이란?\n",
    "\n",
    "- regular expression\n",
    "- 특정한 패턴과 일치하는 문자열을 '검색', '치환', '제거'하는 기능을 지원한다.\n",
    "- 정규표현식의 도움없이 패턴을 찾는 작업(Rule 기반)은 불완전 하거나, 작업의 cost가 높다.\n",
    "- ex) 이메일 형식 판별, 전화번호 형식 판별, 숫자로만 이루어진 문자열 등"
   ]
  },
  {
   "cell_type": "markdown",
   "metadata": {},
   "source": [
    "### raw string\n",
    "- 문자열 앞에 r이 붙으면 해당 문자열이 구성된 그대로 문자열로 반환한다."
   ]
  },
  {
   "cell_type": "code",
   "execution_count": 1,
   "metadata": {},
   "outputs": [
    {
     "name": "stdout",
     "output_type": "stream",
     "text": [
      "abcdef\n",
      "\n",
      "abcdef\\n\n"
     ]
    }
   ],
   "source": [
    "a = 'abcdef\\n' # escape 문자열\n",
    "print(a)\n",
    "\n",
    "b = r'abcdef\\n'\n",
    "print(b)"
   ]
  },
  {
   "cell_type": "markdown",
   "metadata": {},
   "source": [
    "### 기본 패턴\n",
    "- a, X, 9 등등 문자 하나하나의 character들은 정확히 해당 문자와 일치\n",
    "    - ex) 패턴 test는 문자열과 일치\n",
    "    - 대소문자의 경우 기본적으로 구별하나, 구별하지 않도록 설정이 가능하다.\n",
    "- 몇몇 문자들에 대해서는 예외가 존재하는데, 이들은 특별한 의미로 사용된다.\n",
    "    - . ^ & * + ? {} [] \\ | ()\n",
    "- .(마침표) - 어떤 한개의 character와 일치 (newline(엔터) 제외)\n",
    "- \\w : 문자 character와 일치[a-zA-Z0-9]\n",
    "- \\s : 공백문자와 일치\n",
    "- \\t, \\n, \\r : tab, newline, return\n",
    "- \\d : 숫자 character와 일치[0-9]\n",
    "- ^ = 시작, $ = 끝 각각 문자열의 시작과 끝을 의미한다.\n",
    "- \\ 가 붙으면 스폐셜한 의미가 없어진다, 예를들어 \\.는 .자체를 의미 \\\\는 \\를 의미\n",
    "- 자세한 내용은 링크 참조 https://docs.python.org/3/library/re.html"
   ]
  },
  {
   "cell_type": "markdown",
   "metadata": {},
   "source": [
    "### search method\n",
    "- 첫번째로 패턴을 찾으면 match 객체를 반환\n",
    "- 패턴을 찾지 못하면 None을 반환해준다."
   ]
  },
  {
   "cell_type": "code",
   "execution_count": 2,
   "metadata": {},
   "outputs": [],
   "source": [
    "import re"
   ]
  },
  {
   "cell_type": "code",
   "execution_count": 6,
   "metadata": {},
   "outputs": [
    {
     "name": "stdout",
     "output_type": "stream",
     "text": [
      "3\n",
      "6\n",
      "abc\n"
     ]
    }
   ],
   "source": [
    "m = re.search(r'abc', '123abcdedf')\n",
    "print(m.start()) # 패턴이 시작된 위치\n",
    "print(m.end()) # 패턴이 끝나는 위치\n",
    "print(m.group()) # 해당 검색된 패턴을 가져올 수 있는 함수"
   ]
  },
  {
   "cell_type": "code",
   "execution_count": 7,
   "metadata": {},
   "outputs": [
    {
     "name": "stdout",
     "output_type": "stream",
     "text": [
      "None\n"
     ]
    }
   ],
   "source": [
    "m = re.search(r'abc', '123abdedf')\n",
    "print(m) # 없는 경우는 None을 반환해준다."
   ]
  },
  {
   "cell_type": "code",
   "execution_count": 12,
   "metadata": {},
   "outputs": [
    {
     "data": {
      "text/plain": [
       "<re.Match object; span=(0, 4), match='112a'>"
      ]
     },
     "execution_count": 12,
     "metadata": {},
     "output_type": "execute_result"
    }
   ],
   "source": [
    "m = re.search(r'\\d\\d\\d\\w', '112abcdef221') # 가장 먼저 위치한 것을 찾아준다.\n",
    "m"
   ]
  },
  {
   "cell_type": "code",
   "execution_count": 14,
   "metadata": {},
   "outputs": [
    {
     "data": {
      "text/plain": [
       "<re.Match object; span=(2, 6), match='$%AB'>"
      ]
     },
     "execution_count": 14,
     "metadata": {},
     "output_type": "execute_result"
    }
   ],
   "source": [
    "m  = re.search(r'..\\w\\w','@#$%ABCDabcd')\n",
    "m"
   ]
  },
  {
   "cell_type": "markdown",
   "metadata": {},
   "source": [
    "### metacharacters (메타 캐릭터)\n",
    "- [] 내부의 메타 캐릭터는 캐릭터 자체를 나타낸다\n",
    "ex)\n",
    "    - [abde] : a or b or d or e\n",
    "    - [abc.^] : a or b or c or . or ^\n",
    "    - [a-d] : 와 함께 사용되면 해당 문자 사이의 범위에 속하는 문자 중 하나\n",
    "    - [0-9] : 모든 숫자\n",
    "    - [a-z] : 모든 소문자\n",
    "    - [A-Z] : 모든 대문자\n",
    "    - [a-zA-Z0-9] : 모든 알파벳 문자 및 숫자\n",
    "    - [^0-9] : ^가 맨 앞에 사용 되는 경우 해당 문자 패턴이 아닌 것과 매칭, not과 같은 의미"
   ]
  },
  {
   "cell_type": "code",
   "execution_count": 19,
   "metadata": {},
   "outputs": [
    {
     "data": {
      "text/plain": [
       "<re.Match object; span=(0, 3), match='cat'>"
      ]
     },
     "execution_count": 19,
     "metadata": {},
     "output_type": "execute_result"
    }
   ],
   "source": [
    "re.search(r'[cbm]at','cat')"
   ]
  },
  {
   "cell_type": "code",
   "execution_count": 20,
   "metadata": {},
   "outputs": [
    {
     "data": {
      "text/plain": [
       "<re.Match object; span=(0, 6), match='1hahah'>"
      ]
     },
     "execution_count": 20,
     "metadata": {},
     "output_type": "execute_result"
    }
   ],
   "source": [
    "re.search(r'[0-9]hahah','1hahah')"
   ]
  },
  {
   "cell_type": "code",
   "execution_count": 22,
   "metadata": {},
   "outputs": [
    {
     "data": {
      "text/plain": [
       "<re.Match object; span=(0, 5), match='.aron'>"
      ]
     },
     "execution_count": 22,
     "metadata": {},
     "output_type": "execute_result"
    }
   ],
   "source": [
    "re.search(r'[abc.^]aron', '.aron')"
   ]
  },
  {
   "cell_type": "code",
   "execution_count": 25,
   "metadata": {},
   "outputs": [
    {
     "data": {
      "text/plain": [
       "<re.Match object; span=(0, 5), match='#aron'>"
      ]
     },
     "execution_count": 25,
     "metadata": {},
     "output_type": "execute_result"
    }
   ],
   "source": [
    "re.search(r'[^abc]aron','#aron')"
   ]
  },
  {
   "cell_type": "markdown",
   "metadata": {},
   "source": [
    "### \\(백슬래쉬)\n",
    "1. 다른 문자와 함께 사용되어 특수한 의미를 지님\n",
    "    - \\d : 숫자 [0-9]와 동일\n",
    "    - \\D : 숫자가 아닌 문자 [^0-9]와 동일\n",
    "    - \\s : 공백 문자(띄어쓰기, 탬, 엔터 등)\n",
    "    - \\S : 공백이 아닌 문자\n",
    "    - \\w : 알파뱃 대소문자, 숫자[0-9a-zA-Z]와 동일\n",
    "    - \\W : non alpha_numeric 문자 [^0-9a-zA-Z]와 동일\n",
    "2. 메타 캐릭터가 캐릭터 자체를 표현하도록 할 경우 사용\n",
    "    - \\ , \\\\\\"
   ]
  },
  {
   "cell_type": "code",
   "execution_count": 26,
   "metadata": {},
   "outputs": [
    {
     "data": {
      "text/plain": [
       "<re.Match object; span=(5, 9), match=' and'>"
      ]
     },
     "execution_count": 26,
     "metadata": {},
     "output_type": "execute_result"
    }
   ],
   "source": [
    "re.search('\\sand', 'apple and banana')"
   ]
  },
  {
   "cell_type": "code",
   "execution_count": 27,
   "metadata": {},
   "outputs": [
    {
     "data": {
      "text/plain": [
       "<re.Match object; span=(6, 10), match='Land'>"
      ]
     },
     "execution_count": 27,
     "metadata": {},
     "output_type": "execute_result"
    }
   ],
   "source": [
    "re.search('\\Sand', 'apple Land banana')"
   ]
  },
  {
   "cell_type": "code",
   "execution_count": 29,
   "metadata": {},
   "outputs": [
    {
     "data": {
      "text/plain": [
       "<re.Match object; span=(0, 4), match='pand'>"
      ]
     },
     "execution_count": 29,
     "metadata": {},
     "output_type": "execute_result"
    }
   ],
   "source": [
    "re.search(r'.and', 'pand')"
   ]
  },
  {
   "cell_type": "code",
   "execution_count": 30,
   "metadata": {},
   "outputs": [
    {
     "data": {
      "text/plain": [
       "<re.Match object; span=(0, 4), match='.and'>"
      ]
     },
     "execution_count": 30,
     "metadata": {},
     "output_type": "execute_result"
    }
   ],
   "source": [
    "re.search(r'\\.and', '.and')"
   ]
  },
  {
   "cell_type": "markdown",
   "metadata": {},
   "source": [
    "- . 은 모든 문자를 의미한다."
   ]
  },
  {
   "cell_type": "code",
   "execution_count": 32,
   "metadata": {},
   "outputs": [
    {
     "data": {
      "text/plain": [
       "<re.Match object; span=(0, 3), match='pig'>"
      ]
     },
     "execution_count": 32,
     "metadata": {},
     "output_type": "execute_result"
    }
   ],
   "source": [
    "re.search(r'p.g', 'pig')"
   ]
  },
  {
   "cell_type": "markdown",
   "metadata": {},
   "source": [
    "### 반복패턴\n",
    "- 패턴 뒤에 위치하는 *, +, ? 는 해당 패턴이 반복적으로 존재하는지 검사\n",
    "    - '+' : 1번 이상의 패턴이 발생\n",
    "    - '*' : 0번 이상의 패턴이 발생\n",
    "    - '?' : 0혹은 1번의 패턴이 발생\n",
    "- 반복 패턴의 경우 greedy하게 검색 함, 즉 가능한 많은 부분이 매칭되도록 한다.\n",
    "    - ex) a[bcd]*b 패턴을 abcddccb에서 검색하는 경우\n",
    "        - ab, abcb, abcdccb 전부 가능 하지만 최대한 많은 부분이 매칭된 abcbdccb가 검색되는 패턴"
   ]
  },
  {
   "cell_type": "code",
   "execution_count": 33,
   "metadata": {
    "scrolled": true
   },
   "outputs": [
    {
     "data": {
      "text/plain": [
       "<re.Match object; span=(0, 8), match='abcddccb'>"
      ]
     },
     "execution_count": 33,
     "metadata": {},
     "output_type": "execute_result"
    }
   ],
   "source": [
    "re.search(r'a[bcd]*b', 'abcddccb')"
   ]
  },
  {
   "cell_type": "code",
   "execution_count": 35,
   "metadata": {
    "scrolled": true
   },
   "outputs": [
    {
     "data": {
      "text/plain": [
       "<re.Match object; span=(0, 6), match='banana'>"
      ]
     },
     "execution_count": 35,
     "metadata": {},
     "output_type": "execute_result"
    }
   ],
   "source": [
    "re.search(r'b\\w+a', 'banana')"
   ]
  },
  {
   "cell_type": "code",
   "execution_count": 36,
   "metadata": {},
   "outputs": [
    {
     "data": {
      "text/plain": [
       "<re.Match object; span=(1, 3), match='ii'>"
      ]
     },
     "execution_count": 36,
     "metadata": {},
     "output_type": "execute_result"
    }
   ],
   "source": [
    "re.search(r'i+', 'piigiii')"
   ]
  },
  {
   "cell_type": "code",
   "execution_count": 40,
   "metadata": {},
   "outputs": [
    {
     "data": {
      "text/plain": [
       "<re.Match object; span=(0, 4), match='piig'>"
      ]
     },
     "execution_count": 40,
     "metadata": {},
     "output_type": "execute_result"
    }
   ],
   "source": [
    "re.search(r'pi+g', 'piig')"
   ]
  },
  {
   "cell_type": "code",
   "execution_count": 39,
   "metadata": {
    "scrolled": true
   },
   "outputs": [
    {
     "data": {
      "text/plain": [
       "<re.Match object; span=(0, 4), match='piig'>"
      ]
     },
     "execution_count": 39,
     "metadata": {},
     "output_type": "execute_result"
    }
   ],
   "source": [
    "re.search(r'pi*g', 'piig')"
   ]
  },
  {
   "cell_type": "code",
   "execution_count": 42,
   "metadata": {},
   "outputs": [
    {
     "data": {
      "text/plain": [
       "<re.Match object; span=(0, 5), match='https'>"
      ]
     },
     "execution_count": 42,
     "metadata": {},
     "output_type": "execute_result"
    }
   ],
   "source": [
    "re.search(r'https?', 'https://www.naver.com')"
   ]
  },
  {
   "cell_type": "markdown",
   "metadata": {},
   "source": [
    "### ^*(틸드), *$"
   ]
  },
  {
   "cell_type": "markdown",
   "metadata": {},
   "source": [
    "\n",
    "- ^ : 문자열의 맨 앞부터 일치하는 경우 검색\n",
    "\n",
    "- $ : 문자열의 맨 뒤부터 일치하는 경우 검색"
   ]
  },
  {
   "cell_type": "code",
   "execution_count": 43,
   "metadata": {
    "scrolled": true
   },
   "outputs": [
    {
     "data": {
      "text/plain": [
       "<re.Match object; span=(2, 6), match='bana'>"
      ]
     },
     "execution_count": 43,
     "metadata": {},
     "output_type": "execute_result"
    }
   ],
   "source": [
    "re.search(r'b\\w+a', 'cabana')"
   ]
  },
  {
   "cell_type": "code",
   "execution_count": 46,
   "metadata": {},
   "outputs": [
    {
     "data": {
      "text/plain": [
       "<re.Match object; span=(0, 6), match='cabana'>"
      ]
     },
     "execution_count": 46,
     "metadata": {},
     "output_type": "execute_result"
    }
   ],
   "source": [
    "re.search(r'^c\\w+a', 'cabana')"
   ]
  },
  {
   "cell_type": "code",
   "execution_count": 47,
   "metadata": {},
   "outputs": [
    {
     "data": {
      "text/plain": [
       "<re.Match object; span=(2, 6), match='bana'>"
      ]
     },
     "execution_count": 47,
     "metadata": {},
     "output_type": "execute_result"
    }
   ],
   "source": [
    "re.search(r'b\\w+a$', 'cabana')"
   ]
  },
  {
   "cell_type": "code",
   "execution_count": 51,
   "metadata": {},
   "outputs": [
    {
     "data": {
      "text/plain": [
       "<re.Match object; span=(0, 6), match='babana'>"
      ]
     },
     "execution_count": 51,
     "metadata": {},
     "output_type": "execute_result"
    }
   ],
   "source": [
    "re.search(r'^b\\w+a$', 'babana')"
   ]
  },
  {
   "cell_type": "markdown",
   "metadata": {},
   "source": [
    "### grouping\n",
    "- ()를 사용하여 그루핑\n",
    "- 매칭 결과를 각 그룹별로 분리 가능\n",
    "- 패턴 명시 할 때, 각 그룹을 괄호() 안에 넣어 분리하여 사용한다."
   ]
  },
  {
   "cell_type": "code",
   "execution_count": 57,
   "metadata": {},
   "outputs": [
    {
     "name": "stdout",
     "output_type": "stream",
     "text": [
      "test\n",
      "gamil.com\n",
      "test@gamil.com\n"
     ]
    }
   ],
   "source": [
    "m = re.search(r'(\\w+)@(.+)', 'test@gamil.com')\n",
    "print(m.group(1))\n",
    "print(m.group(2))\n",
    "print(m.group(0))"
   ]
  },
  {
   "cell_type": "markdown",
   "metadata": {},
   "source": [
    "### {}\n",
    "- *, +, ? 를 사용하여 반복적인 패턴을 찾는 것이 가능하나, 반복의 횟수 제한은 불가능하다.\n",
    "- 패턴뒤에 위치하는 중괄호{}에 숫자를 명시하면 해당 숫자 만큼의 반복인 경우에만 매칭된다.\n",
    "- {4} - 4번 반복\n",
    "- {3,4} - 3 ~ 4번 반복"
   ]
  },
  {
   "cell_type": "code",
   "execution_count": 60,
   "metadata": {},
   "outputs": [
    {
     "data": {
      "text/plain": [
       "<re.Match object; span=(0, 6), match='piiiig'>"
      ]
     },
     "execution_count": 60,
     "metadata": {},
     "output_type": "execute_result"
    }
   ],
   "source": [
    "re.search('pi{4}g', 'piiiig')"
   ]
  },
  {
   "cell_type": "code",
   "execution_count": 59,
   "metadata": {},
   "outputs": [
    {
     "data": {
      "text/plain": [
       "<re.Match object; span=(0, 6), match='piiiig'>"
      ]
     },
     "execution_count": 59,
     "metadata": {},
     "output_type": "execute_result"
    }
   ],
   "source": [
    "re.search('pi{3,5}g', 'piiiig')"
   ]
  },
  {
   "cell_type": "markdown",
   "metadata": {},
   "source": [
    "### 미니멈 매칭(non-greedy way)\n",
    "- 기본적으로 *, +, ? 를 사용하면 greedy(맥시멈 매칭)하게 동작함\n",
    "- *?, +? 를 사용하여 해당 기능을 구현 가능하다."
   ]
  },
  {
   "cell_type": "code",
   "execution_count": 62,
   "metadata": {},
   "outputs": [
    {
     "data": {
      "text/plain": [
       "<re.Match object; span=(0, 17), match='<html>haha</html>'>"
      ]
     },
     "execution_count": 62,
     "metadata": {},
     "output_type": "execute_result"
    }
   ],
   "source": [
    "re.search(r'<.+>','<html>haha</html>')"
   ]
  },
  {
   "cell_type": "code",
   "execution_count": 64,
   "metadata": {},
   "outputs": [
    {
     "data": {
      "text/plain": [
       "<re.Match object; span=(0, 6), match='<html>'>"
      ]
     },
     "execution_count": 64,
     "metadata": {},
     "output_type": "execute_result"
    }
   ],
   "source": [
    "re.search(r'<.+?>', '<html>haha<\\html>')"
   ]
  },
  {
   "cell_type": "markdown",
   "metadata": {},
   "source": [
    "### {}?\n",
    "- {m,n}의 경우 m번에서 n번 반복하나 greedy하게 동작한다.\n",
    "- {m,n}?로 사용하면 non-greedy하게 동작, 즉, 최소 m번만 매칭하면서 출력된다."
   ]
  },
  {
   "cell_type": "code",
   "execution_count": 65,
   "metadata": {},
   "outputs": [
    {
     "data": {
      "text/plain": [
       "<re.Match object; span=(0, 5), match='aaaaa'>"
      ]
     },
     "execution_count": 65,
     "metadata": {},
     "output_type": "execute_result"
    }
   ],
   "source": [
    "re.search(r'a{3,5}', 'aaaaa')"
   ]
  },
  {
   "cell_type": "code",
   "execution_count": 66,
   "metadata": {},
   "outputs": [
    {
     "data": {
      "text/plain": [
       "<re.Match object; span=(0, 3), match='aaa'>"
      ]
     },
     "execution_count": 66,
     "metadata": {},
     "output_type": "execute_result"
    }
   ],
   "source": [
    "re.search(r'a{3,5}?', 'aaaaa')"
   ]
  },
  {
   "cell_type": "markdown",
   "metadata": {},
   "source": [
    "### match\n",
    "- search와 유사하나, 주어진 문자열의 시작부터 비교하여 패턴이 있는지 확인\n",
    "- 시작부터 해당 패턴이 존재하지 않다면 None 반환"
   ]
  },
  {
   "cell_type": "code",
   "execution_count": 67,
   "metadata": {},
   "outputs": [],
   "source": [
    "re.match(r'\\d\\d\\d', 'my number is 123')"
   ]
  },
  {
   "cell_type": "code",
   "execution_count": 68,
   "metadata": {},
   "outputs": [
    {
     "data": {
      "text/plain": [
       "<re.Match object; span=(0, 3), match='123'>"
      ]
     },
     "execution_count": 68,
     "metadata": {},
     "output_type": "execute_result"
    }
   ],
   "source": [
    "re.match(r'\\d\\d\\d', '123 is my number')"
   ]
  },
  {
   "cell_type": "code",
   "execution_count": 69,
   "metadata": {},
   "outputs": [
    {
     "data": {
      "text/plain": [
       "<re.Match object; span=(0, 3), match='123'>"
      ]
     },
     "execution_count": 69,
     "metadata": {},
     "output_type": "execute_result"
    }
   ],
   "source": [
    "re.search(r'^\\d\\d\\d', '123 is my number')"
   ]
  },
  {
   "cell_type": "markdown",
   "metadata": {},
   "source": [
    "### findall\n",
    "- search가 최초로 매칭되는 패턴만 반환한다면, findall은 매칭되는 전체의 패턴을 반환\n",
    "- 매칭되는 모든 결과를 리스트 형태로 반환"
   ]
  },
  {
   "cell_type": "code",
   "execution_count": 70,
   "metadata": {},
   "outputs": [
    {
     "data": {
      "text/plain": [
       "['test@gamil.com', 'test2@gmail.com']"
      ]
     },
     "execution_count": 70,
     "metadata": {},
     "output_type": "execute_result"
    }
   ],
   "source": [
    "re.findall(r'[\\w-]+@[\\w.]+', 'test@gamil.com haha test2@gmail.com nice day')"
   ]
  },
  {
   "cell_type": "markdown",
   "metadata": {},
   "source": [
    "### sub\n",
    "- 주어진 문자열에서 일치하는 모든 패턴을 replace\n",
    "- 그 결과를 문자열로 다시 반환한다.\n",
    "- 두번째 인자는 특정 문자열이 될수도 있고, 함수가 될수도 있다.\n",
    "- count가 0인 경우 전체를, 1이상이면 해당 숫자만큼 치환 됨"
   ]
  },
  {
   "cell_type": "code",
   "execution_count": 77,
   "metadata": {},
   "outputs": [
    {
     "data": {
      "text/plain": [
       "'great haha test2@gmail.com'"
      ]
     },
     "execution_count": 77,
     "metadata": {},
     "output_type": "execute_result"
    }
   ],
   "source": [
    "re.sub(r'[\\w-]+@[\\w.]+', 'great', 'test@gmail.com haha test2@gmail.com', count = 1)\n",
    "# count 는 기본값이 0 숫자를 지정해서 원하는 값만큼만 변경이 가능하다."
   ]
  },
  {
   "cell_type": "markdown",
   "metadata": {},
   "source": [
    "### compile\n",
    "- 동일한 정규표현식을 매번 다시 쓰기 번거로움을 해결\n",
    "- compile로 해당표현식을 re.RegexObject 객체로 저장하여 사용가능"
   ]
  },
  {
   "cell_type": "code",
   "execution_count": 80,
   "metadata": {},
   "outputs": [
    {
     "data": {
      "text/plain": [
       "<re.Match object; span=(0, 14), match='test@gmail.com'>"
      ]
     },
     "execution_count": 80,
     "metadata": {},
     "output_type": "execute_result"
    }
   ],
   "source": [
    "email_reg = re.compile(r'[\\w-]+@[\\w.]+')\n",
    "\n",
    "email_reg.search('test@gmail.com haha good')"
   ]
  },
  {
   "cell_type": "code",
   "execution_count": null,
   "metadata": {},
   "outputs": [],
   "source": []
  }
 ],
 "metadata": {
  "kernelspec": {
   "display_name": "Python 3",
   "language": "python",
   "name": "python3"
  },
  "language_info": {
   "codemirror_mode": {
    "name": "ipython",
    "version": 3
   },
   "file_extension": ".py",
   "mimetype": "text/x-python",
   "name": "python",
   "nbconvert_exporter": "python",
   "pygments_lexer": "ipython3",
   "version": "3.7.4"
  }
 },
 "nbformat": 4,
 "nbformat_minor": 2
}
