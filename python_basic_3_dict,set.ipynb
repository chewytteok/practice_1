{
 "cells": [
  {
   "cell_type": "markdown",
   "metadata": {},
   "source": [
    "### dictionary\n",
    " - 키와 값을 갖는 데이터 구조\n",
    " - 키는 내부적으로 hash값으로 저장(key를 알면 갖여 오는 시간이 짧다)\n",
    " - 순서를 따지지 않음. 즉, 인덱스가 없다"
   ]
  },
  {
   "cell_type": "code",
   "execution_count": 6,
   "metadata": {},
   "outputs": [
    {
     "name": "stdout",
     "output_type": "stream",
     "text": [
      "{'korea': 'Seoul', 'canada': 'Ottawa', 'USA': 'Washington D.C'}\n",
      "<class 'dict'>\n",
      "Seoul\n"
     ]
    }
   ],
   "source": [
    "a = {'korea' : 'Seoul', \n",
    "     'canada' : 'Ottawa', \n",
    "     'USA' : 'Washington D.C'}\n",
    "\n",
    "print(a)\n",
    "#print(a[0]) : 인덱스로 사용이 불가능하다\n",
    "print(type(a))\n",
    "#대신 key를 대입하여 value값을 갖고 올 수 있다.\n",
    "print(a['korea'])"
   ]
  },
  {
   "cell_type": "markdown",
   "metadata": {},
   "source": [
    "### 항목 추가 및 변경\n",
    " - 기존에 키가 존재 하면, 새로운 값으로 업데이트\n",
    " - 존재하지 않으면, 새로운 키, 값을 생성"
   ]
  },
  {
   "cell_type": "code",
   "execution_count": 9,
   "metadata": {},
   "outputs": [
    {
     "name": "stdout",
     "output_type": "stream",
     "text": [
      "{'korea': 'Seoul', 'canada': 'Ottawa', 'USA': 'Washington D.C', 'Japan': 'Tokyo'}\n"
     ]
    }
   ],
   "source": [
    "a = {'korea' : 'Seoul', \n",
    "     'canada' : 'Ottawa', \n",
    "     'USA' : 'Washington D.C'}\n",
    "\n",
    "# key, value 새로운 값 생성하는 방법\n",
    "a['Japan'] = 'Tokyo'\n",
    "# 동일한 key의 값이 ahsh값으로 저장되기 때문에 중복 될 수 없다, 즉 key에 value값이 새로 업데이트 된다.\n",
    "#a['Japan'] = 'Osaka\n",
    "\n",
    "print(a)"
   ]
  },
  {
   "cell_type": "markdown",
   "metadata": {},
   "source": [
    "- **update()**\n",
    " - 두 딕셔너리를 병합함\n",
    " - 겹치는 키가 있다면 parameter로 전달되는 키 값이 overwrite된다."
   ]
  },
  {
   "cell_type": "code",
   "execution_count": 11,
   "metadata": {},
   "outputs": [
    {
     "name": "stdout",
     "output_type": "stream",
     "text": [
      "{'a': 2, 'b': 4, 'c': 5}\n"
     ]
    }
   ],
   "source": [
    "a = {'a': 1, 'b':2, 'c':3}\n",
    "b = {'a': 2, 'b':4, 'c':5}\n",
    "\n",
    "a.update(b)\n",
    "print(a)"
   ]
  },
  {
   "cell_type": "markdown",
   "metadata": {},
   "source": [
    "- **key삭제**\n",
    " - del 키워드 사용\n",
    " - pop 함수 사용"
   ]
  },
  {
   "cell_type": "code",
   "execution_count": 13,
   "metadata": {},
   "outputs": [
    {
     "name": "stdout",
     "output_type": "stream",
     "text": [
      "{'a': 1, 'b': 2, 'c': 3}\n",
      "{'a': 1, 'c': 3}\n"
     ]
    }
   ],
   "source": [
    "a = {'a': 1, 'b':2, 'c':3}\n",
    "print(a)\n",
    "\n",
    "# a.pop('b')\n",
    "# del이 범용성이 넓다.\n",
    "del a['b']\n",
    "print(a)"
   ]
  },
  {
   "cell_type": "markdown",
   "metadata": {},
   "source": [
    "- **clear()**\n",
    " - 딕셔너리의 모든 값을 초기화"
   ]
  },
  {
   "cell_type": "code",
   "execution_count": 14,
   "metadata": {},
   "outputs": [
    {
     "name": "stdout",
     "output_type": "stream",
     "text": [
      "{'a': 1, 'c': 3}\n",
      "{}\n"
     ]
    }
   ],
   "source": [
    "print(a)\n",
    "a.clear()\n",
    "print(a)"
   ]
  },
  {
   "cell_type": "markdown",
   "metadata": {},
   "source": [
    " - **in★**\n",
    "  - key 값 존재 확인\n",
    "  - O(1) 연산 - 딕셔너리의 크기와 관계없이 항상 연산의 속도가 일정하다는 의미\n",
    " "
   ]
  },
  {
   "cell_type": "code",
   "execution_count": 22,
   "metadata": {},
   "outputs": [
    {
     "name": "stdout",
     "output_type": "stream",
     "text": [
      "{'a': 1, 'b': 2, 'c': 3}\n",
      "False\n",
      "True\n"
     ]
    }
   ],
   "source": [
    "a = {'a': 1, 'b':2, 'c':3}\n",
    "print(a)\n",
    "b = [1,2,3,4,5,6,7,9,10,200]\n",
    "\n",
    "#성능상의 차이가 존재한다.\n",
    "#아래 처럼 key값을 넣으면 hash값 조회로 빠르게 결과를 불러들인다.\n",
    "#'b' in a\n",
    "#이런식으로 사용하면 리스트를 전체를 다 뒤지기 때문에 성능 저하가 일어남\n",
    "print(100 in b)\n",
    "print('b' in a)\n",
    "#'d' in a False"
   ]
  },
  {
   "cell_type": "markdown",
   "metadata": {},
   "source": [
    "- **value access**\n",
    " - dict[key]로 접근, 키가 없는 경우 에러 발생\n",
    " - .get() 함수로 접근, 키가 없는 경우 None 반환"
   ]
  },
  {
   "cell_type": "code",
   "execution_count": 23,
   "metadata": {},
   "outputs": [
    {
     "name": "stdout",
     "output_type": "stream",
     "text": [
      "None\n"
     ]
    }
   ],
   "source": [
    "print(a.get('d'))\n",
    "#아래 처럼 사용하면 error 발생\n",
    "# print(a['d']) "
   ]
  },
  {
   "cell_type": "markdown",
   "metadata": {},
   "source": [
    "- **모든 keys, values 접근**\n",
    " - keys() - key만 반환\n",
    " - values() - 값만 반환\n",
    " - items() - key, value의 tuple을 반환"
   ]
  },
  {
   "cell_type": "code",
   "execution_count": 29,
   "metadata": {},
   "outputs": [
    {
     "name": "stdout",
     "output_type": "stream",
     "text": [
      "{'a': 1, 'b': 2, 'c': 3}\n",
      "dict_keys(['a', 'b', 'c'])\n",
      "dict_values([1, 2, 3])\n",
      "['a', 'b', 'c']\n",
      "[1, 2, 3]\n"
     ]
    },
    {
     "data": {
      "text/plain": [
       "[('a', 1), ('b', 2), ('c', 3)]"
      ]
     },
     "execution_count": 29,
     "metadata": {},
     "output_type": "execute_result"
    }
   ],
   "source": [
    "#3가지 함수가 존재한다.\n",
    "\n",
    "print(a)\n",
    "print(a.keys())\n",
    "print(a.values())\n",
    "\n",
    "# list로 변환 시켜서 사용가능\n",
    "print(list(a.keys()))\n",
    "print(list(a.values()))\n",
    "\n",
    "list(a.items())"
   ]
  },
  {
   "cell_type": "markdown",
   "metadata": {},
   "source": [
    "## set\n",
    " - dictionary 에서 key만 활용하는 데이터 구조로 이해\n",
    " - 수학에서의 집합과 동일한 개념"
   ]
  },
  {
   "cell_type": "code",
   "execution_count": 30,
   "metadata": {},
   "outputs": [
    {
     "name": "stdout",
     "output_type": "stream",
     "text": [
      "{1, 2, 3, 4, 6}\n"
     ]
    }
   ],
   "source": [
    "a = {1,1,2,3,3,4,1,6}\n",
    "\n",
    "print(a)"
   ]
  },
  {
   "cell_type": "markdown",
   "metadata": {},
   "source": [
    " - **set()으로 집합으로 변환**"
   ]
  },
  {
   "cell_type": "code",
   "execution_count": 34,
   "metadata": {},
   "outputs": [
    {
     "name": "stdout",
     "output_type": "stream",
     "text": [
      "[1, 1, 2, 3, 3, 4, 1, 6]\n",
      "{1, 2, 3, 4, 6}\n"
     ]
    },
    {
     "data": {
      "text/plain": [
       "set"
      ]
     },
     "execution_count": 34,
     "metadata": {},
     "output_type": "execute_result"
    }
   ],
   "source": [
    "#list\n",
    "a = [1,1,2,3,3,4,1,6]\n",
    "print(a)\n",
    "\n",
    "#set에서는 중복을 허용하지 않음\n",
    "b = set(a)\n",
    "print(b)\n",
    "type(b)"
   ]
  },
  {
   "cell_type": "markdown",
   "metadata": {},
   "source": [
    " - **setoperations**\n",
    "  - 수학 연산과 동일\n",
    "  - 교집합, 합집합, 차집합 등 지원"
   ]
  },
  {
   "cell_type": "code",
   "execution_count": 37,
   "metadata": {},
   "outputs": [
    {
     "name": "stdout",
     "output_type": "stream",
     "text": [
      "{1, 2, 3, 4}\n",
      "{2, 3}\n",
      "{1}\n",
      "False\n"
     ]
    }
   ],
   "source": [
    "a = {1,2,3}\n",
    "b = {2,3,4}\n",
    "\n",
    "print(a.union(b))# 합집합\n",
    "print(a.intersection(b))# 교집합\n",
    "print(a.difference(b))# 차집합\n",
    "print(a.issubset(b)) # 부분 집합"
   ]
  },
  {
   "cell_type": "code",
   "execution_count": null,
   "metadata": {},
   "outputs": [],
   "source": []
  }
 ],
 "metadata": {
  "kernelspec": {
   "display_name": "Python 3",
   "language": "python",
   "name": "python3"
  },
  "language_info": {
   "codemirror_mode": {
    "name": "ipython",
    "version": 3
   },
   "file_extension": ".py",
   "mimetype": "text/x-python",
   "name": "python",
   "nbconvert_exporter": "python",
   "pygments_lexer": "ipython3",
   "version": "3.7.4"
  }
 },
 "nbformat": 4,
 "nbformat_minor": 2
}
