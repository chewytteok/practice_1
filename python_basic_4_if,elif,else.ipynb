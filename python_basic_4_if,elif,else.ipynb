{
 "cells": [
  {
   "cell_type": "markdown",
   "metadata": {},
   "source": [
    "### condition(조건문)\n",
    "\n",
    " - 특정 조건을 만족하는 경우에만 수행할 작업이 있는 경우 사용\n",
    " - 모든 조건은 boolean으로 표현 됨 (예외도 있음)\n",
    " - if, elif, else 키워드 사용\n",
    " - 조건문의 경우 if, elif, else 블록에 종속된 코드는 들여쓰기로 표현 가능\n",
    " - 아래 코드에서와 같이, 조건문 아래에 들여쓰기 된 2줄의 코드만이 조건문의 조건에 따라 수행될 수도, 수행 되지 않을 수도 있는 코드\n",
    " - 들여쓰기 된 코드를 블록(block), 또는 코드블록이라고 함\n",
    " - python에서 모든 블록의 시작점의 마지막에는 :(콜론, colon) 추가가 필요하다\n",
    "\n",
    "```python\n",
    "if 6 >= 5:\n",
    "    print('6은 5보다 크다')\n",
    "    prinbt('True')\n",
    "print('이 코드는 if문에 속하지 않습니다.')\n",
    "\n",
    "```"
   ]
  },
  {
   "cell_type": "code",
   "execution_count": 1,
   "metadata": {
    "scrolled": true
   },
   "outputs": [
    {
     "name": "stdout",
     "output_type": "stream",
     "text": [
      "6은 5보다 크다\n",
      "True\n",
      "이 코드는 if문에 속하지 않습니다.\n"
     ]
    }
   ],
   "source": [
    "if 6 >= 5:\n",
    "    print('6은 5보다 크다')\n",
    "    print('True')\n",
    "print('이 코드는 if문에 속하지 않습니다.')"
   ]
  },
  {
   "cell_type": "code",
   "execution_count": 2,
   "metadata": {},
   "outputs": [
    {
     "name": "stdout",
     "output_type": "stream",
     "text": [
      "이 코드는 if문에 속하지 않습니다.\n"
     ]
    }
   ],
   "source": [
    "if 6 == 5:\n",
    "    print('6은 5보다 크다')\n",
    "    print('True')\n",
    "#위에가 True가 아니기 때문에 if문에 속하지 않는 아래 코드만 실행이 된다.\n",
    "print('이 코드는 if문에 속하지 않습니다.')"
   ]
  },
  {
   "cell_type": "markdown",
   "metadata": {},
   "source": [
    " - Logical And, OR, NOT\n",
    "   - 조건문에 사용된느 조건의 경우, boolean이기 때문에, 논리식 AND, OR, NOT이 사용가능하다\n",
    "   - AND : and\n",
    "   - OR : or\n",
    "   - NOT : not\n",
    " - 논리표\n",
    "   - AND\n",
    "       - T AND T : T\n",
    "       - T AND F : F\n",
    "       - F AND T : F\n",
    "       - F AND F : F\n",
    "   - OR\n",
    "       - T OR T : T\n",
    "       - T OR F : T\n",
    "       - F OR T : T\n",
    "       - F OR F : F\n",
    "   - NOT\n",
    "       - NOT T : F\n",
    "       - NOT F : T\n",
    "   - 우선순위\n",
    "       - NOT > AND > OR"
   ]
  },
  {
   "cell_type": "code",
   "execution_count": 3,
   "metadata": {},
   "outputs": [],
   "source": [
    "a = 10\n",
    "b = 7\n",
    "c = 13"
   ]
  },
  {
   "cell_type": "code",
   "execution_count": 4,
   "metadata": {},
   "outputs": [
    {
     "name": "stdout",
     "output_type": "stream",
     "text": [
      "that is True\n"
     ]
    }
   ],
   "source": [
    "if a == 10 and b == 7:\n",
    "    print('that is True')"
   ]
  },
  {
   "cell_type": "code",
   "execution_count": 5,
   "metadata": {},
   "outputs": [
    {
     "name": "stdout",
     "output_type": "stream",
     "text": [
      "that is True\n"
     ]
    }
   ],
   "source": [
    "if a == 10 or b == 13:\n",
    "    print('that is True')"
   ]
  },
  {
   "cell_type": "code",
   "execution_count": 6,
   "metadata": {},
   "outputs": [],
   "source": [
    "# T and F = F\n",
    "if (a == 10 or b == 7) and c == 11:\n",
    "    print('that is True')"
   ]
  },
  {
   "cell_type": "code",
   "execution_count": 7,
   "metadata": {},
   "outputs": [],
   "source": [
    "# not T : F\n",
    "if not a == 10:\n",
    "    print('a is ten')"
   ]
  },
  {
   "cell_type": "markdown",
   "metadata": {},
   "source": [
    "### if의 조건이 bool이 아닌 경우\n",
    " - 일반적으로는 조건문에는 bool이 주로 위치 함\n",
    " - 하지만 정수, 실수, 문자열, 리스트 등 기본 타입도 조건에 사용이 가능하다.\n",
    " - False로 간주되는 값(각 타입의 기본값)\n",
    "     - None\n",
    "     - 0\n",
    "     - 0.0\n",
    "     - ''\n",
    "     - [] -> 빈 리스트\n",
    "     - () -> 빈 튜플\n",
    "     - {} -> 빈 딕셔너리\n",
    "     - set() -> 빈 집합\n",
    " - 그 밖에는 모두 True로 간주한다."
   ]
  },
  {
   "cell_type": "code",
   "execution_count": 8,
   "metadata": {},
   "outputs": [
    {
     "name": "stdout",
     "output_type": "stream",
     "text": [
      "3.3333\n"
     ]
    }
   ],
   "source": [
    "if 3:\n",
    "    print('3.3333')"
   ]
  },
  {
   "cell_type": "code",
   "execution_count": 9,
   "metadata": {},
   "outputs": [],
   "source": [
    "# False로 간주되어 실행이 안된다.\n",
    "a = 0.0\n",
    "if a:\n",
    "    print('print')"
   ]
  },
  {
   "cell_type": "markdown",
   "metadata": {},
   "source": [
    "### if, else\n",
    "  - if가 아닌 경우, 나머지 조건을 표현하고 싶다면 바로 아래 else 블락 사용\n",
    "  - 이 경우, if조건이 True인 경우, if 블락의 코드가 수행, 거짓인 경우 else 블락의 코드가 수행\n",
    "  - 주의 할 점 : if와 else 사이에 다른 코드 삽입이 불가능하다.★\n",
    " "
   ]
  },
  {
   "cell_type": "code",
   "execution_count": 10,
   "metadata": {},
   "outputs": [
    {
     "name": "stdout",
     "output_type": "stream",
     "text": [
      "12\n"
     ]
    }
   ],
   "source": [
    "# 짝수인 경우는 2를 더한 값을 출력하고 \n",
    "# 홀수인 경우는 1을 더한 값을 출력해라\n",
    "# 이분법, 두가지 중 한가지만 실행된다.\n",
    "\n",
    "a = 10\n",
    "if a % 2 == 0:\n",
    "    print(a + 2)\n",
    "else:\n",
    "    print(a + 1)"
   ]
  },
  {
   "cell_type": "markdown",
   "metadata": {},
   "source": [
    "### if, elif, else\n",
    " - 조건이 여러개인 경우, 다음 조건을 elif 블록에 명시 가능\n",
    " - 이 경우 각 조건을 확인 후, True인 조건의 코드 블락을 실행, 전체 if, elif, else 구문을 종료\n",
    " - 조건문을 사용할 때는, if 이후, 0개 이상의 elif를 사용 가능하며 0개 또는 1개의 else를 사용 가능하다."
   ]
  },
  {
   "cell_type": "code",
   "execution_count": null,
   "metadata": {},
   "outputs": [],
   "source": [
    "# if, elif, else를 사용해서 간단한 학점 계산기를 만들어보자\n",
    "# 간단하게 생각해보면 True 값을 찾는 것이니 어렵게 생각하지 마세요\n",
    "\n",
    "x = int(input(\"점수를 입력하세요: \"))\n",
    "\n",
    "if 90 <= x <= 100:\n",
    "            grade = 'A'\n",
    "elif 80 <= x < 90:\n",
    "            grade = 'B'\n",
    "elif 70 <= x < 80:\n",
    "            grade = 'C'\n",
    "elif 60 <= x < 70:\n",
    "            grade = 'D'\n",
    "else:\n",
    "            grade = 'F'\n",
    "print(grade)"
   ]
  },
  {
   "cell_type": "markdown",
   "metadata": {},
   "source": [
    "### 중첩 조건문(nested condition)\n",
    "\n",
    " - 조건문의 경우 중첩하여 작성 가능\n",
    " - 중첩의 의미는 depth(깊이)로 생각할 수 있으며, depth의 제한은 없음\n",
    " - 클린 코드를 만들기 위해서는 depth를 많이 만드는 건 좋지 않다"
   ]
  },
  {
   "cell_type": "code",
   "execution_count": null,
   "metadata": {},
   "outputs": [],
   "source": [
    "a = 10\n",
    "b = 9\n",
    "c = 8\n",
    "\n",
    "if a == 10:\n",
    "    if c == 8:\n",
    "        if b == 9:#False\n",
    "            print('a is ten and b is 8')\n",
    "        else:\n",
    "            print('a is ten and b is not 8')"
   ]
  },
  {
   "cell_type": "code",
   "execution_count": null,
   "metadata": {},
   "outputs": [],
   "source": []
  }
 ],
 "metadata": {
  "kernelspec": {
   "display_name": "Python 3",
   "language": "python",
   "name": "python3"
  },
  "language_info": {
   "codemirror_mode": {
    "name": "ipython",
    "version": 3
   },
   "file_extension": ".py",
   "mimetype": "text/x-python",
   "name": "python",
   "nbconvert_exporter": "python",
   "pygments_lexer": "ipython3",
   "version": "3.7.4"
  }
 },
 "nbformat": 4,
 "nbformat_minor": 2
}
