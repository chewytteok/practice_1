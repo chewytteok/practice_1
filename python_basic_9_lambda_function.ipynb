{
 "cells": [
  {
   "cell_type": "markdown",
   "metadata": {},
   "source": [
    "### Lambda 함수란?\n",
    "- 단일문으로 표현되는 익명함수\n",
    "- 익명함수란 이름이 없는 구현체만 존재하는 간단한 함수를 의미\n",
    "- 코드 상에서 한번만 사용되는 기능이 있을 때, 굳이 함수로 만들지 않고 1회성으로 만들어서 쓸 때 사용"
   ]
  },
  {
   "cell_type": "code",
   "execution_count": 1,
   "metadata": {},
   "outputs": [
    {
     "data": {
      "text/plain": [
       "25"
      ]
     },
     "execution_count": 1,
     "metadata": {},
     "output_type": "execute_result"
    }
   ],
   "source": [
    "def square2(x):\n",
    "    return x**2\n",
    "\n",
    "square2(5)"
   ]
  },
  {
   "cell_type": "code",
   "execution_count": 2,
   "metadata": {},
   "outputs": [
    {
     "data": {
      "text/plain": [
       "25"
      ]
     },
     "execution_count": 2,
     "metadata": {},
     "output_type": "execute_result"
    }
   ],
   "source": [
    "square = lambda x:x**2 #(입력값 : 출력값 , 리턴은 사용하지 않는다)\n",
    "\n",
    "square(5)"
   ]
  },
  {
   "cell_type": "code",
   "execution_count": 3,
   "metadata": {
    "scrolled": true
   },
   "outputs": [
    {
     "data": {
      "text/plain": [
       "30"
      ]
     },
     "execution_count": 3,
     "metadata": {},
     "output_type": "execute_result"
    }
   ],
   "source": [
    "def add(x, y):\n",
    "    return x + y\n",
    "\n",
    "add_2 = lambda x,y:x+y\n",
    "add_2(10,20)\n",
    "\n",
    "# 굳이 사용 할 필요는 없지만 코드를 간결하게 하기 위해서 사용함"
   ]
  },
  {
   "cell_type": "code",
   "execution_count": 5,
   "metadata": {},
   "outputs": [
    {
     "data": {
      "text/plain": [
       "5"
      ]
     },
     "execution_count": 5,
     "metadata": {},
     "output_type": "execute_result"
    }
   ],
   "source": [
    "def str_len(s):\n",
    "    return len(s)\n",
    "\n",
    "str_len('goods')"
   ]
  },
  {
   "cell_type": "code",
   "execution_count": 8,
   "metadata": {},
   "outputs": [
    {
     "name": "stdout",
     "output_type": "stream",
     "text": [
      "['bpb', 'teddy', 'charles', 'alexander3']\n"
     ]
    }
   ],
   "source": [
    "_str = ['bpb', 'charles', 'alexander3', 'teddy']\n",
    "#_str.sort(key=str_len)\n",
    "_str.sort(key=lambda s:len(s))\n",
    "\n",
    "#위와같이 외부에 함수를 구현할 필요없이 심플하게 정리하고자 쓰인다.\n",
    "print(_str)"
   ]
  },
  {
   "cell_type": "markdown",
   "metadata": {},
   "source": [
    "### filter, map, reduce\n",
    "- lambda가 유용하게 사용되는 3가지 대표적 함수\n",
    "- 함수형 프로그래밍의 기본 요소이기도 함\n",
    "- filter : 특정 조건을 만족하는 요소만 남기고 필터링\n",
    "- map : 각 원소를 주어진 수식에 따라 변형하여 새로운 리스트를 반환\n",
    "- reduce : 차례대로 앞 2개의 원소를 가지고 연산, 연산 된 결과가 또 다음 연산의 입력으로 진행됨, 따라서 마지막까지 진행되면 최종 출력은 한개의 값만 남게 된다."
   ]
  },
  {
   "cell_type": "code",
   "execution_count": 11,
   "metadata": {},
   "outputs": [
    {
     "name": "stdout",
     "output_type": "stream",
     "text": [
      "True\n",
      "False\n"
     ]
    }
   ],
   "source": [
    "def even(n):\n",
    "    return n % 2 == 0\n",
    "    \n",
    "print(even(2))\n",
    "print(even(3))\n"
   ]
  },
  {
   "cell_type": "code",
   "execution_count": 14,
   "metadata": {},
   "outputs": [
    {
     "data": {
      "text/plain": [
       "[2, 4, 6, 8]"
      ]
     },
     "execution_count": 14,
     "metadata": {},
     "output_type": "execute_result"
    }
   ],
   "source": [
    "#리스트에서 필터링해주는 함수\n",
    "# 사용방법 \n",
    "# filter(함수, 리스트)\n",
    "# ex) \n",
    "nums = [1, 2, 3, 4, 5, 6, 7, 8, 9]\n",
    "\n",
    "#list(filter(even, nums))\n",
    "\n",
    "#아래와 같이 사용하면 된다.\n",
    "list(filter(lambda n:n%2 == 0, nums))"
   ]
  },
  {
   "cell_type": "code",
   "execution_count": 15,
   "metadata": {
    "scrolled": true
   },
   "outputs": [
    {
     "data": {
      "text/plain": [
       "[1, 4, 9, 16, 25, 36, 49, 64, 81]"
      ]
     },
     "execution_count": 15,
     "metadata": {},
     "output_type": "execute_result"
    }
   ],
   "source": [
    "# map\n",
    "# 주어진 리스트, 리스트의 제곱을 한 숫자로 새로운 리스트를 만들어줌\n",
    "\n",
    "nums = [1, 2, 3, 4, 5, 6, 7, 8, 9]\n",
    "list(map(lambda n:n**2, nums))"
   ]
  },
  {
   "cell_type": "code",
   "execution_count": 19,
   "metadata": {
    "scrolled": true
   },
   "outputs": [
    {
     "data": {
      "text/plain": [
       "[False, True, False, True, False, True, False, True, False]"
      ]
     },
     "execution_count": 19,
     "metadata": {},
     "output_type": "execute_result"
    }
   ],
   "source": [
    "list(map(even, nums))"
   ]
  },
  {
   "cell_type": "code",
   "execution_count": 24,
   "metadata": {},
   "outputs": [
    {
     "name": "stdout",
     "output_type": "stream",
     "text": [
      "17\n",
      "120\n"
     ]
    }
   ],
   "source": [
    "# reduce\n",
    "import functools\n",
    "# 사용 방법 \n",
    "# functools.reduce(함수, 리스트)\n",
    "\n",
    "a = [1, 3, 5, 8]\n",
    "#리스트 내의 모든 숫자 합\n",
    "print(functools.reduce(lambda x,y:x+y, a))\n",
    "#리스트 내의 모든 숫자 곱\n",
    "print(functools.reduce(lambda x,y:x*y, a))"
   ]
  },
  {
   "cell_type": "markdown",
   "metadata": {},
   "source": [
    "### 함수 연습문제\n",
    "\n",
    "1. 주어진 숫자 리스트의 평균을 구하는 함수를 출력하시오.\n",
    "2. 해당 숫자가 소수인지 아닌지 판별하시오.\n",
    "3. 2부터 해당 숫자사이에 소수가 몇개인지 출력하는 함수를 구하시오."
   ]
  },
  {
   "cell_type": "code",
   "execution_count": 26,
   "metadata": {},
   "outputs": [
    {
     "data": {
      "text/plain": [
       "4.0"
      ]
     },
     "execution_count": 26,
     "metadata": {},
     "output_type": "execute_result"
    }
   ],
   "source": [
    "# 주어진 숫자 리스트의 평균을 구하는 함수를 출력하시오\n",
    "# 입력 : 숫자 리스트\n",
    "# 출력 : 숫자 리스트의 평균값\n",
    "\n",
    "def mean(nums):\n",
    "    _sum = 0\n",
    "    for i in nums:\n",
    "        _sum += i\n",
    "    \n",
    "    return _sum / len(nums)\n",
    "\n",
    "mean([1,2,3,4,5,6,7,])"
   ]
  },
  {
   "cell_type": "code",
   "execution_count": 27,
   "metadata": {},
   "outputs": [
    {
     "data": {
      "text/plain": [
       "3.0"
      ]
     },
     "execution_count": 27,
     "metadata": {},
     "output_type": "execute_result"
    }
   ],
   "source": [
    "def mens(nums):\n",
    "    return sum / len(nums)\n",
    "\n",
    "mean([1,2,3,4,5])"
   ]
  },
  {
   "cell_type": "code",
   "execution_count": 33,
   "metadata": {},
   "outputs": [
    {
     "name": "stdout",
     "output_type": "stream",
     "text": [
      "False\n",
      "True\n"
     ]
    }
   ],
   "source": [
    "# 해당 숫자가 소수인지 아닌지 판별하시오.\n",
    "# 소수 판별 (1과 자기 자신으로만 나눠지는 수)\n",
    "# 입력 : 양의 정수 1개\n",
    "# 출력 : boolean(소수 : True, 합성수 : False)\n",
    "\n",
    "# python 에서 T or F의 결과값을 반환받는 함수는 보통 is를 써준다.\n",
    "\n",
    "# 2 ~ 입력값까지 range함수로 생성\n",
    "def is_prime(num):\n",
    "    for i in range(2, num):\n",
    "        if num % i == 0:\n",
    "            return False\n",
    "        return True\n",
    "        \n",
    "print(is_prime(100))\n",
    "print(is_prime(99))"
   ]
  },
  {
   "cell_type": "code",
   "execution_count": 39,
   "metadata": {},
   "outputs": [
    {
     "name": "stdout",
     "output_type": "stream",
     "text": [
      "4\n",
      "3\n"
     ]
    }
   ],
   "source": [
    "# 2부터 해당 숫자사이에 소수가 몇개인지 출력하는 함수를 구하시오.\n",
    "# 2, 3, 4, 5, 6, 7 -> 4\n",
    "# 2, 3, 4, 5 -> 3\n",
    "# 입력 : 양의 정수 1개\n",
    "# 출력 : 2-해당 숫자 사이의 소수의 개수\n",
    "\n",
    "def num_prime(num):\n",
    "    count = 0\n",
    "    for i in range(2, num+1):\n",
    "        if is_prime(i):\n",
    "            count += 1\n",
    "    return count\n",
    "\n",
    "print(num_prime(9))\n",
    "print(num_prime(7))"
   ]
  },
  {
   "cell_type": "code",
   "execution_count": null,
   "metadata": {},
   "outputs": [],
   "source": []
  }
 ],
 "metadata": {
  "kernelspec": {
   "display_name": "Python 3",
   "language": "python",
   "name": "python3"
  },
  "language_info": {
   "codemirror_mode": {
    "name": "ipython",
    "version": 3
   },
   "file_extension": ".py",
   "mimetype": "text/x-python",
   "name": "python",
   "nbconvert_exporter": "python",
   "pygments_lexer": "ipython3",
   "version": "3.7.4"
  }
 },
 "nbformat": 4,
 "nbformat_minor": 2
}
