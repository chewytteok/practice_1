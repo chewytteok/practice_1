{
 "cells": [
  {
   "cell_type": "markdown",
   "metadata": {},
   "source": [
    "### Loop(반복문)\n",
    " - 반복적인 작업을 가능하게 해주는 도구\n",
    " - 특정 조건을 만족하는 경우 수행할 수 있음(while)\n",
    " - 리스트, 문자열, 튜플 등 컬렉션 타입의 아이템을 하나씩 순회하면서 사용 가능 (for문)\n",
    " - 코드 작업에서 가장 많이 사용하는 구문 중 하나\n",
    " - 주의할점 : while을 사용할 경우, 반복을 멈추게하는 장치가 필요\n",
    "     - 그렇지 않으면 셀이 무한으로 수행되며 jupyter notebook에서는 재부팅을 해야한다."
   ]
  },
  {
   "cell_type": "markdown",
   "metadata": {},
   "source": [
    "### while 키워드 이용하여 리스트의 아이템 출력하기"
   ]
  },
  {
   "cell_type": "code",
   "execution_count": 4,
   "metadata": {},
   "outputs": [
    {
     "name": "stdout",
     "output_type": "stream",
     "text": [
      "value :  1 , index :  0\n",
      "value :  2 , index :  1\n",
      "value :  3 , index :  2\n",
      "value :  4 , index :  3\n",
      "value :  5 , index :  4\n",
      "value :  6 , index :  5\n",
      "value :  7 , index :  6\n",
      "value :  10 , index :  7\n",
      "hello python\n"
     ]
    }
   ],
   "source": [
    "a = [1,2,3,4,5,6,7,10]\n",
    "\n",
    "i = 0 #인덱스 때문에 사용함\n",
    "while i < len(a):\n",
    "    print('value : ', a[i],', index : ', i)\n",
    "    i += 1\n",
    "#print에 도달하지 않고 인덱스 번호가 끝날때까지 진행한다\n",
    "#그 후 아래 print로 넘어감\n",
    "print('hello python')"
   ]
  },
  {
   "cell_type": "markdown",
   "metadata": {},
   "source": [
    "### 조건문과 함께 while 키워드 이용하여 리스트 아이템 출력하기"
   ]
  },
  {
   "cell_type": "code",
   "execution_count": 6,
   "metadata": {},
   "outputs": [
    {
     "name": "stdout",
     "output_type": "stream",
     "text": [
      "4\n",
      "5\n",
      "6\n",
      "7\n",
      "10\n"
     ]
    }
   ],
   "source": [
    "a = [1,2,3,4,5,6,7,10]\n",
    "\n",
    "i = 0 \n",
    "while i < len(a):\n",
    "    if a[i] >= 4:\n",
    "        print(a[i])\n",
    "    i += 1#위에서 말하는 반복을 멈추는 장치 역활을 해줌"
   ]
  },
  {
   "cell_type": "code",
   "execution_count": 8,
   "metadata": {},
   "outputs": [
    {
     "name": "stdout",
     "output_type": "stream",
     "text": [
      "1\n",
      "1.0\n",
      "3\n",
      "2.0\n",
      "5\n",
      "3.0\n",
      "7\n",
      "4.0\n",
      "9\n",
      "5.0\n"
     ]
    }
   ],
   "source": [
    "a = [1,2,3,4,5,6,7,8,9,10]\n",
    "\n",
    "i = 0\n",
    "while i < len(a):\n",
    "    if a[i] % 2: #홀수인 경우만 출력하기\n",
    "        print(a[i])\n",
    "    else:\n",
    "        print(a[i] / 2) #짝수인 경우만 출력하기\n",
    "    i += 1"
   ]
  },
  {
   "cell_type": "markdown",
   "metadata": {},
   "source": [
    "### 무한루프\n",
    " - while의 경우 종료가 되지 않도록 코드를 작성하면 블록에서 빠져나올 수 없다."
   ]
  },
  {
   "cell_type": "code",
   "execution_count": 9,
   "metadata": {},
   "outputs": [
    {
     "ename": "IndentationError",
     "evalue": "unexpected indent (<ipython-input-9-e7c092634e4e>, line 2)",
     "output_type": "error",
     "traceback": [
      "\u001b[1;36m  File \u001b[1;32m\"<ipython-input-9-e7c092634e4e>\"\u001b[1;36m, line \u001b[1;32m2\u001b[0m\n\u001b[1;33m    print('hoho')\u001b[0m\n\u001b[1;37m    ^\u001b[0m\n\u001b[1;31mIndentationError\u001b[0m\u001b[1;31m:\u001b[0m unexpected indent\n"
     ]
    }
   ],
   "source": [
    "#while True:\n",
    "    #print('hoho')"
   ]
  },
  {
   "cell_type": "markdown",
   "metadata": {},
   "source": [
    "### break\n",
    " - loop를 중단할 때 사용\n",
    " - 보통 조건문 안에서 수행되며, 조건을 만족하는 경우 loop를 탈출하기 위해 사용\n",
    " - loop를 중단하는 경우, while 이후의 코드를 수행\n"
   ]
  },
  {
   "cell_type": "code",
   "execution_count": 12,
   "metadata": {
    "scrolled": true
   },
   "outputs": [
    {
     "name": "stdout",
     "output_type": "stream",
     "text": [
      "1\n",
      "10\n",
      "5\n",
      "hello python\n"
     ]
    }
   ],
   "source": [
    "a = [1,10,5,23,13,14]\n",
    "\n",
    "i = 0\n",
    "while i < len(a):\n",
    "    if a[i] > 15:\n",
    "        break\n",
    "    print(a[i])\n",
    "    i += 1\n",
    "#결과를 보면 23이후의 값은 출력하지 않을을 알 수 있다.\n",
    "    \n",
    "print('hello python')"
   ]
  },
  {
   "cell_type": "markdown",
   "metadata": {},
   "source": [
    "### continue\n",
    "- break처럼 반복을 중단하면서 해당 부분을 건너 뛰고, while 조건으로 돌아간다\n",
    "- 특정한 경우에는 코드를 수행하지 않고 다음으로 건너 뛰기 위해 사용한다."
   ]
  },
  {
   "cell_type": "code",
   "execution_count": 13,
   "metadata": {},
   "outputs": [
    {
     "name": "stdout",
     "output_type": "stream",
     "text": [
      "6\n",
      "4\n",
      "3\n",
      "2\n",
      "1\n",
      "0\n"
     ]
    }
   ],
   "source": [
    "a = 7\n",
    "while a > 0:\n",
    "    a -= 1\n",
    "    if a == 5:\n",
    "        continue\n",
    "    print(a)\n",
    "# 5 일 경우에 그 다음으로 넘어가라는 조건을 걸었다.\n",
    "#결과값을 보면 5가 없는 것을 볼 수 있다."
   ]
  },
  {
   "cell_type": "markdown",
   "metadata": {},
   "source": [
    "### 1 ~ 100까지 더하면서 10단위 마다 표시해주세요."
   ]
  },
  {
   "cell_type": "code",
   "execution_count": 14,
   "metadata": {},
   "outputs": [
    {
     "name": "stdout",
     "output_type": "stream",
     "text": [
      "10 55\n",
      "20 210\n",
      "30 465\n",
      "40 820\n",
      "50 1275\n",
      "60 1830\n",
      "70 2485\n",
      "80 3240\n",
      "90 4095\n",
      "100 5050\n"
     ]
    }
   ],
   "source": [
    "i = 1\n",
    "cumsum = 0\n",
    "\n",
    "while i <= 100:\n",
    "    cumsum += i\n",
    "    if i % 10 == 0:\n",
    "        print(i, cumsum)\n",
    "    i += 1"
   ]
  },
  {
   "cell_type": "code",
   "execution_count": null,
   "metadata": {},
   "outputs": [],
   "source": []
  }
 ],
 "metadata": {
  "kernelspec": {
   "display_name": "Python 3",
   "language": "python",
   "name": "python3"
  },
  "language_info": {
   "codemirror_mode": {
    "name": "ipython",
    "version": 3
   },
   "file_extension": ".py",
   "mimetype": "text/x-python",
   "name": "python",
   "nbconvert_exporter": "python",
   "pygments_lexer": "ipython3",
   "version": "3.7.4"
  }
 },
 "nbformat": 4,
 "nbformat_minor": 2
}
