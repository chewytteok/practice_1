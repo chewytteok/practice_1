{
 "cells": [
  {
   "cell_type": "markdown",
   "metadata": {},
   "source": [
    "변수\n",
    " - 데이터를 저장하는 공간, 변수\n",
    " - 저장공간(memory)에 값을 생성하고 이름을 지정\n",
    " - =(대입연산자)를 사용하여 왼쪽은 변수명, 오른쪽은 데이터가 위치\n"
   ]
  },
  {
   "cell_type": "code",
   "execution_count": 1,
   "metadata": {},
   "outputs": [],
   "source": [
    "a = 10 #int\n",
    "b = 11.4 #float"
   ]
  },
  {
   "cell_type": "markdown",
   "metadata": {},
   "source": [
    "print 함수\n",
    " - 함수란 특정 기능을 반복적으로 호출한여 사용가능한 코드블럭\n",
    " - 해당 변수의 값을 출력\n",
    " - , 로 여러 변수를 나열하면 한줄에 출력\n",
    " - 기본적으로 한칸 띄어쓰기 후 출력"
   ]
  },
  {
   "cell_type": "code",
   "execution_count": 7,
   "metadata": {},
   "outputs": [
    {
     "name": "stdout",
     "output_type": "stream",
     "text": [
      "10 11.4\n",
      "10 10 11.4 20\n"
     ]
    }
   ],
   "source": [
    "print(a,b)\n",
    "print(a, 10, b, 20)"
   ]
  },
  {
   "cell_type": "markdown",
   "metadata": {},
   "source": [
    "print 함수 설정\n",
    " - sep : 구분자 , 각 출력할 변수 사이에서 구별하는 역할을 함\n",
    " - end : 마지막 출력할 문자열"
   ]
  },
  {
   "cell_type": "code",
   "execution_count": 8,
   "metadata": {},
   "outputs": [
    {
     "name": "stdout",
     "output_type": "stream",
     "text": [
      "10*11.4*10*100!!"
     ]
    }
   ],
   "source": [
    "print(a, b, 10, 100, sep ='*', end='!!')"
   ]
  },
  {
   "cell_type": "markdown",
   "metadata": {},
   "source": [
    "## type 함수\n",
    " - 해당 변수, 값의 타입(type)을 알고자 할 때 사용"
   ]
  },
  {
   "cell_type": "code",
   "execution_count": 10,
   "metadata": {},
   "outputs": [
    {
     "data": {
      "text/plain": [
       "int"
      ]
     },
     "execution_count": 10,
     "metadata": {},
     "output_type": "execute_result"
    }
   ],
   "source": [
    "a = 10\n",
    "b = 11.45\n",
    "type(a)"
   ]
  },
  {
   "cell_type": "markdown",
   "metadata": {},
   "source": [
    "### None\n",
    "- 아무런 값을 갖지 않을 때 사용\n",
    "- 일반적으로 변수가 초기값을 갖지 않게 하여 해당 변수를 생성할 때 사용\n",
    "- 기타 언어 NULL, nil 등과 같은 의미로 사용"
   ]
  },
  {
   "cell_type": "code",
   "execution_count": 11,
   "metadata": {},
   "outputs": [
    {
     "name": "stdout",
     "output_type": "stream",
     "text": [
      "None\n"
     ]
    }
   ],
   "source": [
    "c = None\n",
    "print(c)"
   ]
  },
  {
   "cell_type": "markdown",
   "metadata": {},
   "source": [
    "### comparison operator(비교연산자)\n",
    "- 프로그래밍에서는 비교를 할 경우, = 대신 ==를 사용\n",
    "- <, >(작다, 크다)\n",
    "- <= , >=(작거나 같다, 크거나 같다)\n",
    "- ==같다\n",
    "- != 같지 않다\n",
    "- 비교 연산자의 결과는 bool 타입"
   ]
  },
  {
   "cell_type": "code",
   "execution_count": 13,
   "metadata": {},
   "outputs": [
    {
     "name": "stdout",
     "output_type": "stream",
     "text": [
      "True\n",
      "False\n",
      "True\n",
      "False\n",
      "False\n",
      "True\n",
      "<class 'bool'>\n",
      "True\n"
     ]
    }
   ],
   "source": [
    "a = 5\n",
    "b = 4\n",
    "\n",
    "print(a > b)\n",
    "print(a < b)\n",
    "print(a >= b)\n",
    "print(a <= b)\n",
    "print(a == b)\n",
    "print(a != b)\n",
    "\n",
    "c = a > b\n",
    "c = True\n",
    "print(type(c))\n",
    "print(c)"
   ]
  },
  {
   "cell_type": "markdown",
   "metadata": {},
   "source": [
    "### 숫자형 타입)\n",
    "- 정수, 실수로 구성\n",
    "- 수학의 기본 연산자(가감승제) 사용 가능"
   ]
  },
  {
   "cell_type": "code",
   "execution_count": 14,
   "metadata": {},
   "outputs": [
    {
     "name": "stdout",
     "output_type": "stream",
     "text": [
      "9\n",
      "20\n",
      "1.25\n",
      "1\n",
      "1\n",
      "625\n"
     ]
    }
   ],
   "source": [
    "a = 5\n",
    "b = 4\n",
    "print(a+b)\n",
    "print(a*b)\n",
    "print(a/b)\n",
    "print(a - b)\n",
    "print(a%b)\n",
    "print(a**b)"
   ]
  },
  {
   "cell_type": "markdown",
   "metadata": {},
   "source": [
    "### operator priorities (연산자 우선순위)\n",
    "- 기본적인 수학의 연산자와 동일\n",
    "- 강제로 연산을 선수하기 위해선, 괄호()를 사용"
   ]
  },
  {
   "cell_type": "code",
   "execution_count": 15,
   "metadata": {},
   "outputs": [
    {
     "name": "stdout",
     "output_type": "stream",
     "text": [
      "21\n",
      "45\n"
     ]
    }
   ],
   "source": [
    "a = 5\n",
    "b = 4\n",
    "print(a + b * 4)\n",
    "print((a+b) * 5)"
   ]
  },
  {
   "cell_type": "code",
   "execution_count": 16,
   "metadata": {},
   "outputs": [
    {
     "name": "stdout",
     "output_type": "stream",
     "text": [
      "9\n",
      "6\n",
      "9\n"
     ]
    }
   ],
   "source": [
    "a = 9\n",
    "print(a) # 9\n",
    "print(a - 3) # 6\n",
    "print(a) # 9"
   ]
  },
  {
   "cell_type": "markdown",
   "metadata": {},
   "source": [
    "### string(문자열)\n",
    "- 복수개의 문자를 순서대로 나열 한 것\n",
    "- 문자열은'(작은따옴표) 혹은 \"(큰따옴표) 사이에 문자를 넣어서 생성\n",
    "- 문자열 자체에 ',\"가 있는 경우에는 각각 그 반대의 기호로 생성"
   ]
  },
  {
   "cell_type": "code",
   "execution_count": 24,
   "metadata": {},
   "outputs": [
    {
     "name": "stdout",
     "output_type": "stream",
     "text": [
      "\"Hello\" world , Hello' world , hello world , hello world\n"
     ]
    }
   ],
   "source": [
    "a = '\"Hello\" world'\n",
    "b = \"Hello' world\"\n",
    "\n",
    "print(a,b,c,d, sep =' , ')"
   ]
  },
  {
   "cell_type": "code",
   "execution_count": 26,
   "metadata": {},
   "outputs": [
    {
     "name": "stdout",
     "output_type": "stream",
     "text": [
      "hello \n",
      "\n",
      "world\n",
      "hello \n",
      "world\n"
     ]
    }
   ],
   "source": [
    "#여러개의 문자열 생성 방법\n",
    "c = '''hello \n",
    "\n",
    "world'''\n",
    "d = \"\"\"hello \n",
    "world\"\"\"\n",
    "print(c)\n",
    "print(d)"
   ]
  },
  {
   "cell_type": "markdown",
   "metadata": {},
   "source": [
    "### escape string(이스케이프 문자)\n",
    "- 문자열내의 일부 문자의 의미를 달리하여 특정한 효과를 주는 것\n",
    "- \\n : new line \\t : tab등"
   ]
  },
  {
   "cell_type": "code",
   "execution_count": 27,
   "metadata": {},
   "outputs": [
    {
     "name": "stdout",
     "output_type": "stream",
     "text": [
      "Hello \n",
      "\n",
      " python\n",
      "HoHo\t\tHoHo\n"
     ]
    }
   ],
   "source": [
    "print('Hello \\n\\n python')\n",
    "print('HoHo\\t\\tHoHo')"
   ]
  },
  {
   "cell_type": "markdown",
   "metadata": {},
   "source": [
    "### indexing % slicing string(문자열 인덱스 및 추출)★\n",
    "- 문자열의 각 문자는 순서가 있음\n",
    "- 이때 각 문자열의 순서를 인덱스라고 한다.\n",
    "- 첫번째 문자부터 마지막까지 차례대로의 순서를 가짐\n",
    "- python에서의 첫번째 시작문자의 순서는 0으로 시작한다.\n",
    "\n",
    "- python에서는 음수 인덱스를 지원\n",
    "- -1이 가장 마지막 인덱스를, -2가 마지막에서 두번째 인덱스를 의미한다."
   ]
  },
  {
   "cell_type": "code",
   "execution_count": 38,
   "metadata": {},
   "outputs": [
    {
     "name": "stdout",
     "output_type": "stream",
     "text": [
      "o\n",
      "n\n",
      "H\n"
     ]
    }
   ],
   "source": [
    "a = 'Hello python'\n",
    "print(a[10])\n",
    "\n",
    "print(a[-1])\n",
    "print(a[-12])"
   ]
  },
  {
   "cell_type": "markdown",
   "metadata": {},
   "source": [
    "### index의 범위\n",
    "- index는 [0 , 문자열의 길이)의 범위만 유효\n",
    "- 음수 index를 사용할 경우, [-문자열의 길이, -1]\n",
    "- 범위를 넘어갈 경우 에러"
   ]
  },
  {
   "cell_type": "code",
   "execution_count": 42,
   "metadata": {},
   "outputs": [
    {
     "name": "stdout",
     "output_type": "stream",
     "text": [
      "n\n"
     ]
    }
   ],
   "source": [
    "print(a[11])\n",
    "#print(a[12]) #error\n",
    "#print(a[-13]) #error"
   ]
  },
  {
   "cell_type": "markdown",
   "metadata": {},
   "source": [
    "### slicing\n",
    "- slicing은 부분 문자열을 추출할 수 있다.\n",
    "- [시작:끝]과 같이 명시하여 [시작, 끝]에 해당하는 부분 문자열을 추출한다.\n",
    "- 시작, 끝 인덱스가 생략되어 있다면, 0부터 혹은 끝까지로 간주한다."
   ]
  },
  {
   "cell_type": "code",
   "execution_count": 55,
   "metadata": {},
   "outputs": [
    {
     "name": "stdout",
     "output_type": "stream",
     "text": [
      "Hello\n",
      "Hello\n",
      "Hello\n",
      "python\n",
      "Hello python\n"
     ]
    }
   ],
   "source": [
    "a = 'Hello python'\n",
    "print(a[0:5])\n",
    "print(a[0:-7])\n",
    "print(a[:5])\n",
    "print(a[6:])\n",
    "print(a[:])"
   ]
  },
  {
   "cell_type": "markdown",
   "metadata": {},
   "source": [
    "### 문자열 함수\n",
    "- 문자열은 여러가지 기능 제공을 위한 함수를 내장하고 있다.\n",
    "- 함수란 특정 기능을 하는 코드로 언제든지 호출하여 해당 기능을 사용 가능하도록 구성한 코드"
   ]
  },
  {
   "cell_type": "code",
   "execution_count": 56,
   "metadata": {},
   "outputs": [
    {
     "data": {
      "text/plain": [
       "'HELLO PYTHON'"
      ]
     },
     "execution_count": 56,
     "metadata": {},
     "output_type": "execute_result"
    }
   ],
   "source": [
    "a = 'Hello python'\n",
    "a.upper()"
   ]
  },
  {
   "cell_type": "markdown",
   "metadata": {},
   "source": [
    "### replace\n",
    "- 문자열 내의 특정 문자를 치환"
   ]
  },
  {
   "cell_type": "code",
   "execution_count": 57,
   "metadata": {},
   "outputs": [
    {
     "data": {
      "text/plain": [
       "'Hell pythn'"
      ]
     },
     "execution_count": 57,
     "metadata": {},
     "output_type": "execute_result"
    }
   ],
   "source": [
    "a = 'Hello python'\n",
    "a.replace('o', '')"
   ]
  },
  {
   "cell_type": "markdown",
   "metadata": {},
   "source": [
    "### format ★\n",
    "- 문자열 내의 특정한 값을 변수로부터 초기화하여 동적으로 문자열을 생성한다."
   ]
  },
  {
   "cell_type": "code",
   "execution_count": 61,
   "metadata": {},
   "outputs": [
    {
     "name": "stdout",
     "output_type": "stream",
     "text": [
      "오늘 기온은 27.2도 이고, 비올 확률은 100% 입니다.\n"
     ]
    }
   ],
   "source": [
    "temperature = 27.2\n",
    "prob = 100\n",
    "\n",
    "a = '오늘 기온은 {}도 이고, 비올 확률은 {}% 입니다.'.format(temperature, prob)\n",
    "print(a)"
   ]
  },
  {
   "cell_type": "markdown",
   "metadata": {},
   "source": [
    "### split\n",
    "- 문자열을 특정한 문자 구분하여(delimiter) 문자열의 리스트로 치환"
   ]
  },
  {
   "cell_type": "code",
   "execution_count": 65,
   "metadata": {},
   "outputs": [
    {
     "name": "stdout",
     "output_type": "stream",
     "text": [
      "['오늘도', '즐거운', '하루가', '되도록', '노력합시다.']\n",
      "['오늘', ' 즐거운 하루가 되', '록 노력합시다.']\n"
     ]
    }
   ],
   "source": [
    "a = '오늘도 즐거운 하루가 되도록 노력합시다.'\n",
    "print(a.split()) #\n",
    "print(a.split('도'))"
   ]
  },
  {
   "cell_type": "code",
   "execution_count": null,
   "metadata": {},
   "outputs": [],
   "source": []
  }
 ],
 "metadata": {
  "kernelspec": {
   "display_name": "Python 3",
   "language": "python",
   "name": "python3"
  },
  "language_info": {
   "codemirror_mode": {
    "name": "ipython",
    "version": 3
   },
   "file_extension": ".py",
   "mimetype": "text/x-python",
   "name": "python",
   "nbconvert_exporter": "python",
   "pygments_lexer": "ipython3",
   "version": "3.7.4"
  }
 },
 "nbformat": 4,
 "nbformat_minor": 2
}
