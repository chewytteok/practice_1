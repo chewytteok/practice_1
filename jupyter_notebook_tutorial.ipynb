{
 "cells": [
  {
   "cell_type": "markdown",
   "metadata": {},
   "source": [
    "# hello python\n",
    "\n",
    "## hello python\n",
    "\n",
    "### hello python\n",
    "\n",
    "#### hello python"
   ]
  },
  {
   "cell_type": "markdown",
   "metadata": {},
   "source": [
    " 강조하고 싶을 때\n",
    "**jupyter Notebook** is really *cool*\n",
    "\n",
    " 리스트를 작성하고 싶을 때\n",
    "- python\n",
    " - pandas\n",
    " - numpy\n",
    "- R\n",
    "- Java\n",
    "\n",
    " 숫자도 가능하다.\n",
    "1. one\n",
    "2. two\n",
    "3. three\n",
    "\n",
    "> 새로운 건 늘 짜릿해\n",
    "\n",
    "수식 표현하고 싶을 때\n",
    "\n",
    "$y=3x$\n",
    "\n",
    "$마크 다운에서 코드로 인식시키고 싶을 때$\n",
    "\n",
    "$ 물결표 모양 말고 `*3 기호를 사용해주시고 어떤언어인지 명시$\n",
    "\n",
    "$코드작성 후 `*3으로 닫아주시면 코드실행이 됩니다.$\n",
    "\n",
    "```python\n",
    "a = 10\n",
    "print(a)\n",
    "```\n",
    "\n",
    "링크 거는 방법\n",
    "[홍드메이드의 블로그](https://blog.naver.com/huh994)"
   ]
  },
  {
   "cell_type": "code",
   "execution_count": null,
   "metadata": {},
   "outputs": [],
   "source": []
  }
 ],
 "metadata": {
  "kernelspec": {
   "display_name": "Python 3",
   "language": "python",
   "name": "python3"
  },
  "language_info": {
   "codemirror_mode": {
    "name": "ipython",
    "version": 3
   },
   "file_extension": ".py",
   "mimetype": "text/x-python",
   "name": "python",
   "nbconvert_exporter": "python",
   "pygments_lexer": "ipython3",
   "version": "3.7.4"
  }
 },
 "nbformat": 4,
 "nbformat_minor": 2
}
